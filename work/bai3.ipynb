{
 "cells": [
  {
   "cell_type": "code",
   "execution_count": 1,
   "id": "8d6ef706-2e78-4549-8b7c-6290184cf1b9",
   "metadata": {},
   "outputs": [],
   "source": [
    "import random\n",
    "\n",
    "# Tạo file và ghi 100.000 số nguyên vào file\n",
    "with open('songuyen2.txt', 'w') as f:\n",
    "    for _ in range(100000):\n",
    "        number = random.randint(1, 1000000)  # Tạo số nguyên ngẫu nhiên từ 1 đến 1.000.000\n",
    "        f.write(f\"{number} \")  # Ghi số nguyên vào file, mỗi số trên 1 dòng"
   ]
  },
  {
   "cell_type": "code",
   "execution_count": 2,
   "id": "f38447ba-903b-488d-96d9-515dc011ae2e",
   "metadata": {},
   "outputs": [],
   "source": [
    "from pyspark import SparkContext\n",
    "sc = SparkContext()"
   ]
  },
  {
   "cell_type": "code",
   "execution_count": 3,
   "id": "9641fd67-423f-484c-92da-44a093c346fd",
   "metadata": {},
   "outputs": [
    {
     "data": {
      "text/plain": [
       "999992"
      ]
     },
     "execution_count": 3,
     "metadata": {},
     "output_type": "execute_result"
    }
   ],
   "source": [
    "# Bai 1\n",
    "rdd = sc.textFile(\"songuyen2.txt\")\n",
    "rdd2 = rdd.flatMap(lambda x: x.split(\" \"))\n",
    "rdd3 = rdd2.filter(lambda x: x.strip() != \"\").map(lambda x : int(x))\n",
    "rdd3.reduce(lambda x, y: max(x,y))"
   ]
  },
  {
   "cell_type": "code",
   "execution_count": 11,
   "id": "4d2b3082-7cfb-4146-84b4-85525b3f07a2",
   "metadata": {},
   "outputs": [
    {
     "data": {
      "text/plain": [
       "('Spark', 15)"
      ]
     },
     "execution_count": 11,
     "metadata": {},
     "output_type": "execute_result"
    }
   ],
   "source": [
    "# Bai 2 - dem so lan mot cai chuoi xuat hien trong mot file\n",
    "\n",
    "rddFile = sc.textFile(\"README.md\")\n",
    "rddWords = rddFile.flatMap(lambda x: x.split(\" \"))\n",
    "rddWords.map(lambda x: (x, 1)) \\\n",
    "    .reduceByKey(lambda x, y = 5: x + y) \\\n",
    "    .filter(lambda x: x[0] == \"Spark\") \\\n",
    "    .first()"
   ]
  },
  {
   "cell_type": "code",
   "execution_count": 9,
   "id": "104f52ee-5207-4d6f-b7b2-1cd5eacd6cff",
   "metadata": {},
   "outputs": [
    {
     "name": "stdout",
     "output_type": "stream",
     "text": [
      "20\n"
     ]
    }
   ],
   "source": [
    "# Bai 2-2 - dem so lan mot cai chuoi xuat hien trong mot file\n",
    "search_string =  \"Spark\"\n",
    "rddFile = sc.textFile(\"README.md\")\n",
    "counts_rdd = rddFile.map(lambda line: line.count(search_string))\n",
    "# Cộng tất cả các số đếm lại\n",
    "total_count = counts_rdd.reduce(lambda a, b: a + b)\n",
    "print(total_count)"
   ]
  },
  {
   "cell_type": "code",
   "execution_count": 6,
   "id": "59732d3b-46a0-417a-a28b-8f371b7729dc",
   "metadata": {},
   "outputs": [],
   "source": [
    "def get_bigrams(text):\n",
    "  words = text.split()\n",
    "  bigrams = []\n",
    "  for i in range(len(words) - 1):\n",
    "    bigram = (words[i], words[i + 1])\n",
    "    bigrams.append(bigram)\n",
    "  return bigrams\n",
    "\n",
    "\n",
    "rddFile = sc.textFile(\"HXH.txt\")\n",
    "rddFile.flatMap(get_bigrams) \\\n",
    "    .map(lambda x : (x, 1)) \\\n",
    "    .reduceByKey(lambda x,y: x + y) \\\n",
    "    .saveAsTextFile(\"HXH\")"
   ]
  },
  {
   "cell_type": "code",
   "execution_count": 29,
   "id": "8a4e4de4-f556-4bbd-80c2-e4660d4a8ce1",
   "metadata": {},
   "outputs": [
    {
     "data": {
      "text/plain": [
       "[('186', 92),\n",
       " ('22', 128),\n",
       " ('244', 238),\n",
       " ('298', 127),\n",
       " ('6', 211),\n",
       " ('62', 232),\n",
       " ('286', 288),\n",
       " ('200', 216),\n",
       " ('210', 132),\n",
       " ('291', 296)]"
      ]
     },
     "execution_count": 29,
     "metadata": {},
     "output_type": "execute_result"
    }
   ],
   "source": [
    "# Bai 4\n",
    "rddFile = sc.textFile(\"u.data\")\n",
    "rddFlat = rddFile.flatMap(lambda l: [l.split('\\t')])\n",
    "result = rddFlat.map(lambda x: (x[0],1)).reduceByKey(lambda x, y: x + y)\n",
    "result.take(10)"
   ]
  },
  {
   "cell_type": "code",
   "execution_count": 31,
   "id": "af204996-c9fe-4567-be45-efd3fde0995b",
   "metadata": {},
   "outputs": [
    {
     "data": {
      "text/plain": [
       "[('186', 92),\n",
       " ('22', 128),\n",
       " ('244', 238),\n",
       " ('298', 127),\n",
       " ('6', 211),\n",
       " ('62', 232),\n",
       " ('286', 288),\n",
       " ('200', 216),\n",
       " ('210', 132),\n",
       " ('291', 296)]"
      ]
     },
     "execution_count": 31,
     "metadata": {},
     "output_type": "execute_result"
    }
   ],
   "source": [
    "# Bai 4\n",
    "rddFile = sc.textFile(\"u.data\")\n",
    "rddFlat = rddFile.flatMap(lambda l: [l.split('\\t')])\n",
    "result = rddFlat.groupBy(lambda x: x[0]).mapValues(len)\n",
    "result.take(10)"
   ]
  },
  {
   "cell_type": "code",
   "execution_count": null,
   "id": "17a23a4c-b80d-44c2-890c-024c9b4e1644",
   "metadata": {},
   "outputs": [],
   "source": []
  }
 ],
 "metadata": {
  "kernelspec": {
   "display_name": "Python 3 (ipykernel)",
   "language": "python",
   "name": "python3"
  },
  "language_info": {
   "codemirror_mode": {
    "name": "ipython",
    "version": 3
   },
   "file_extension": ".py",
   "mimetype": "text/x-python",
   "name": "python",
   "nbconvert_exporter": "python",
   "pygments_lexer": "ipython3",
   "version": "3.11.9"
  }
 },
 "nbformat": 4,
 "nbformat_minor": 5
}
