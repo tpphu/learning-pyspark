{
 "cells": [
  {
   "cell_type": "markdown",
   "id": "fea5ea3f-41cd-4aba-99ea-ce6538124f38",
   "metadata": {},
   "source": [
    "# De bai tap kiem tra\n",
    "```\n",
    "Cho data set chứa thông tin về các cuốn sách được lưu trong file books.csv gồm\n",
    "các thông tin: \"ISBN\";\"Book-Title\";\"Book-Author\";\"Year-Of-Publication\";\n",
    "\"Publisher\";\"Image-URL-S\";\"Image-URL-M\";\"Image-URL-L\".\n",
    "Hãy thực hiện các yêu cầu sau bằng RDD của Spark:\n",
    "1 (1 điểm) Nạp file dữ liệu vào RDD.\n",
    "2 (1 điểm) Cho biết số cuốn sách có trong data set.\n",
    "3 (1 điểm) Cho biết có bao nhiêu cuốn sách xuất bản trong mỗi năm.\n",
    "4 (1 điểm) Vẽ biểu đồ cột biểu diễn số lượng sách xuất bản mỗi năm.\n",
    "5 (1 điểm) Cho biết có bao nhiêu nhà xuất bản khác nhau trong data set.\n",
    "6. (1 điểm) Cho biết tác giả xuất bản nhiều sách nhất.\n",
    "7 (2 điểm) Cho biết số cuốn sách của mỗi tác giả xuất bản với từng nhà xuất bản\n",
    "trong từng năm.\n",
    "8 (2 điểm) Cho biết những nhà xuất bản mà mỗi tác giả chưa có sách xuất bản ở\n",
    "nhà xuất bản đó.\n",
    "```"
   ]
  },
  {
   "cell_type": "code",
   "execution_count": 1,
   "id": "b4883858-16d4-4996-b1e4-40f74761d5ab",
   "metadata": {},
   "outputs": [],
   "source": [
    "# Load Pyspark Context\n",
    "from pyspark import SparkContext\n",
    "sc = SparkContext()"
   ]
  },
  {
   "cell_type": "markdown",
   "id": "4e2199a0-e3de-43fc-a5fc-c98e55afaa94",
   "metadata": {},
   "source": [
    "# 1. Nạp file dữ liệu vào RDD."
   ]
  },
  {
   "cell_type": "code",
   "execution_count": 18,
   "id": "b5aade0c-e95a-4fdf-89dc-ce0596adeff9",
   "metadata": {},
   "outputs": [
    {
     "data": {
      "text/plain": [
       "['\"ISBN\";\"Book-Title\";\"Book-Author\";\"Year-Of-Publication\";\"Publisher\";\"Image-URL-S\";\"Image-URL-M\";\"Image-URL-L\"',\n",
       " '\"0195153448\";\"Classical Mythology\";\"Mark P. O. Morford\";\"2002\";\"Oxford University Press\";\"http://images.amazon.com/images/P/0195153448.01.THUMBZZZ.jpg\";\"http://images.amazon.com/images/P/0195153448.01.MZZZZZZZ.jpg\";\"http://images.amazon.com/images/P/0195153448.01.LZZZZZZZ.jpg\"']"
      ]
     },
     "execution_count": 18,
     "metadata": {},
     "output_type": "execute_result"
    }
   ],
   "source": [
    "rdd = sc.textFile(\"books.csv\")\n",
    "rdd.take(2)"
   ]
  },
  {
   "cell_type": "markdown",
   "id": "b7d7b45c-31c3-43da-a514-237b20730edf",
   "metadata": {},
   "source": [
    "# 2. Cho biết số cuốn sách có trong data set."
   ]
  },
  {
   "cell_type": "code",
   "execution_count": 49,
   "id": "1be81a75-ea36-4c2c-b837-0e6dc03deb2a",
   "metadata": {},
   "outputs": [],
   "source": [
    "def preprocess(l):\n",
    "    data = []\n",
    "    for x in l.split('\";\"'):\n",
    "        if len(x) > 0 and x[0] == '\"':\n",
    "            t = x[1:]\n",
    "        else:\n",
    "            t = x\n",
    "        data.append(t)\n",
    "    return [data]"
   ]
  },
  {
   "cell_type": "code",
   "execution_count": 51,
   "id": "ccb3b028-34cb-49ac-ad2b-f63776f51f44",
   "metadata": {},
   "outputs": [
    {
     "data": {
      "text/plain": [
       "[['0195153448',\n",
       "  'Classical Mythology',\n",
       "  'Mark P. O. Morford',\n",
       "  '2002',\n",
       "  'Oxford University Press',\n",
       "  'http://images.amazon.com/images/P/0195153448.01.THUMBZZZ.jpg',\n",
       "  'http://images.amazon.com/images/P/0195153448.01.MZZZZZZZ.jpg',\n",
       "  'http://images.amazon.com/images/P/0195153448.01.LZZZZZZZ.jpg\"'],\n",
       " ['0002005018',\n",
       "  'Clara Callan',\n",
       "  'Richard Bruce Wright',\n",
       "  '2001',\n",
       "  'HarperFlamingo Canada',\n",
       "  'http://images.amazon.com/images/P/0002005018.01.THUMBZZZ.jpg',\n",
       "  'http://images.amazon.com/images/P/0002005018.01.MZZZZZZZ.jpg',\n",
       "  'http://images.amazon.com/images/P/0002005018.01.LZZZZZZZ.jpg\"']]"
      ]
     },
     "execution_count": 51,
     "metadata": {},
     "output_type": "execute_result"
    }
   ],
   "source": [
    "data = rdd.flatMap(lambda l: preprocess(l)).filter(lambda x: len(x) > 0 and x[0] != 'ISBN')\n",
    "data.take(2)"
   ]
  },
  {
   "cell_type": "code",
   "execution_count": 52,
   "id": "8c5dad7b-d910-4e1e-82e2-352906d06178",
   "metadata": {},
   "outputs": [
    {
     "name": "stdout",
     "output_type": "stream",
     "text": [
      "So cuon sach:  271379\n"
     ]
    }
   ],
   "source": [
    "totalBook = data.count()\n",
    "print(\"So cuon sach: \", totalBook)"
   ]
  },
  {
   "cell_type": "code",
   "execution_count": 59,
   "id": "9fbdb537-00da-4202-98ba-197a1f5f72b7",
   "metadata": {},
   "outputs": [
    {
     "data": {
      "text/plain": [
       "[['3150000335',\n",
       "  'Kabale Und Liebe',\n",
       "  'Schiller',\n",
       "  '0',\n",
       "  'Philipp Reclam, Jun Verlag GmbH',\n",
       "  'http://images.amazon.com/images/P/3150000335.01.THUMBZZZ.jpg',\n",
       "  'http://images.amazon.com/images/P/3150000335.01.MZZZZZZZ.jpg',\n",
       "  'http://images.amazon.com/images/P/3150000335.01.LZZZZZZZ.jpg\"'],\n",
       " ['342311360X',\n",
       "  'Die Liebe in Den Zelten',\n",
       "  'Gabriel Garcia Marquez',\n",
       "  '0',\n",
       "  'Deutscher Taschenbuch Verlag (DTV)',\n",
       "  'http://images.amazon.com/images/P/342311360X.01.THUMBZZZ.jpg',\n",
       "  'http://images.amazon.com/images/P/342311360X.01.MZZZZZZZ.jpg',\n",
       "  'http://images.amazon.com/images/P/342311360X.01.LZZZZZZZ.jpg\"'],\n",
       " ['0571197639',\n",
       "  'Poisonwood Bible Edition Uk',\n",
       "  'Barbara Kingsolver',\n",
       "  '0',\n",
       "  'Faber Faber Inc',\n",
       "  'http://images.amazon.com/images/P/0571197639.01.THUMBZZZ.jpg',\n",
       "  'http://images.amazon.com/images/P/0571197639.01.MZZZZZZZ.jpg',\n",
       "  'http://images.amazon.com/images/P/0571197639.01.LZZZZZZZ.jpg\"'],\n",
       " ['3596214629',\n",
       "  'Herr Der Fliegen (Fiction, Poetry and Drama)',\n",
       "  'Golding',\n",
       "  '0',\n",
       "  'Fischer Taschenbuch Verlag GmbH',\n",
       "  'http://images.amazon.com/images/P/3596214629.01.THUMBZZZ.jpg',\n",
       "  'http://images.amazon.com/images/P/3596214629.01.MZZZZZZZ.jpg',\n",
       "  'http://images.amazon.com/images/P/3596214629.01.LZZZZZZZ.jpg\"'],\n",
       " ['8845229041',\n",
       "  'Biblioteca Universale Rizzoli: Sulla Sponda Del Fiume Piedra',\n",
       "  'P Coelho',\n",
       "  '0',\n",
       "  'Fabbri - RCS Libri',\n",
       "  'http://images.amazon.com/images/P/8845229041.01.THUMBZZZ.jpg',\n",
       "  'http://images.amazon.com/images/P/8845229041.01.MZZZZZZZ.jpg',\n",
       "  'http://images.amazon.com/images/P/8845229041.01.LZZZZZZZ.jpg\"'],\n",
       " ['0345251733',\n",
       "  'Rainbow the Stormy Life of Judy Garland',\n",
       "  'Christopher Finch',\n",
       "  '0',\n",
       "  'Ballantine Books',\n",
       "  'http://images.amazon.com/images/P/0345251733.01.THUMBZZZ.jpg',\n",
       "  'http://images.amazon.com/images/P/0345251733.01.MZZZZZZZ.jpg',\n",
       "  'http://images.amazon.com/images/P/0345251733.01.LZZZZZZZ.jpg\"'],\n",
       " ['0590021117',\n",
       "  'Little House On the Prairie',\n",
       "  'Laura Ingall Wilder',\n",
       "  '0',\n",
       "  'Scholastic Inc',\n",
       "  'http://images.amazon.com/images/P/0590021117.01.THUMBZZZ.jpg',\n",
       "  'http://images.amazon.com/images/P/0590021117.01.MZZZZZZZ.jpg',\n",
       "  'http://images.amazon.com/images/P/0590021117.01.LZZZZZZZ.jpg\"'],\n",
       " ['2070362388',\n",
       "  'Ravage',\n",
       "  'Rene Barjavel',\n",
       "  '0',\n",
       "  'Gallimard French',\n",
       "  'http://images.amazon.com/images/P/2070362388.01.THUMBZZZ.jpg',\n",
       "  'http://images.amazon.com/images/P/2070362388.01.MZZZZZZZ.jpg',\n",
       "  'http://images.amazon.com/images/P/2070362388.01.LZZZZZZZ.jpg\"'],\n",
       " ['2266033689',\n",
       "  'Le Diable Au Corps',\n",
       "  'Raymond Radiguet',\n",
       "  '0',\n",
       "  'Presses Pocket French',\n",
       "  'http://images.amazon.com/images/P/2266033689.01.THUMBZZZ.jpg',\n",
       "  'http://images.amazon.com/images/P/2266033689.01.MZZZZZZZ.jpg',\n",
       "  'http://images.amazon.com/images/P/2266033689.01.LZZZZZZZ.jpg\"'],\n",
       " ['2070334368',\n",
       "  'La Guerre Des Boutons',\n",
       "  'Pergaud',\n",
       "  '0',\n",
       "  'Livre de Poche',\n",
       "  'http://images.amazon.com/images/P/2070334368.01.THUMBZZZ.jpg',\n",
       "  'http://images.amazon.com/images/P/2070334368.01.MZZZZZZZ.jpg',\n",
       "  'http://images.amazon.com/images/P/2070334368.01.LZZZZZZZ.jpg\"']]"
      ]
     },
     "execution_count": 59,
     "metadata": {},
     "output_type": "execute_result"
    }
   ],
   "source": [
    "data.filter(lambda b: b[3] == '0').take(10)"
   ]
  },
  {
   "cell_type": "markdown",
   "id": "41dee9a7-54e9-4edd-8e08-ad462615da62",
   "metadata": {},
   "source": [
    "# 3. Cho biết có bao nhiêu cuốn sách xuất bản trong mỗi năm."
   ]
  },
  {
   "cell_type": "code",
   "execution_count": 54,
   "id": "e1ffa9b0-625a-4c1b-a058-3be02ad85c74",
   "metadata": {},
   "outputs": [
    {
     "data": {
      "text/plain": [
       "[('2001', 17360),\n",
       " ('1991', 9389),\n",
       " ('1993', 10602),\n",
       " ('1996', 14031),\n",
       " ('2004', 5839),\n",
       " ('1998', 15767),\n",
       " ('1986', 5841),\n",
       " ('1977', 1897),\n",
       " ('1941', 10),\n",
       " ('1972', 773),\n",
       " ('1959', 103),\n",
       " ('1963', 132),\n",
       " ('1957', 76),\n",
       " ('1955', 70),\n",
       " ('1946', 13),\n",
       " ('2011', 2),\n",
       " ('1948', 9),\n",
       " ('1943', 8),\n",
       " ('1947', 14),\n",
       " ('1945', 8),\n",
       " ('1923', 11),\n",
       " ('1926', 2),\n",
       " ('2030', 7),\n",
       " ('1904', 1),\n",
       " ('1929', 7),\n",
       " ('1931', 3),\n",
       " ('1933', 4),\n",
       " ('1902', 2),\n",
       " ('1917', 1),\n",
       " ('1906', 1),\n",
       " ('1935', 3),\n",
       " ('2021', 1),\n",
       " ('2012', 1),\n",
       " ('2006', 3),\n",
       " ('1909', 2),\n",
       " ('2008', 1),\n",
       " ('1376', 1),\n",
       " ('2002', 17628),\n",
       " ('2000', 17235),\n",
       " ('1988', 7493),\n",
       " ('1997', 14892),\n",
       " ('1979', 2208),\n",
       " ('1995', 13548),\n",
       " ('1992', 9906),\n",
       " ('1978', 2131),\n",
       " ('1952', 34),\n",
       " ('1989', 7937),\n",
       " ('0', 4619),\n",
       " ('1971', 540),\n",
       " ('1975', 1219),\n",
       " ('1973', 924),\n",
       " ('1960', 133),\n",
       " ('1920', 33),\n",
       " ('1956', 74),\n",
       " ('1953', 63),\n",
       " ('1951', 40),\n",
       " ('1964', 149),\n",
       " ('1940', 36),\n",
       " ('1936', 7),\n",
       " ('2020', 3),\n",
       " ('1939', 9),\n",
       " ('1938', 7),\n",
       " ('1949', 11),\n",
       " ('1932', 5),\n",
       " ('1927', 2),\n",
       " ('1914', 1),\n",
       " ('2050', 2),\n",
       " ('1910', 1),\n",
       " ('1921', 2),\n",
       " ('1900', 3),\n",
       " ('2038', 1),\n",
       " ('1944', 4),\n",
       " ('1901', 7),\n",
       " ('1922', 2),\n",
       " ('1897', 1),\n",
       " ('1999', 17432),\n",
       " ('1994', 11796),\n",
       " ('2003', 14359),\n",
       " ('1983', 4499),\n",
       " ('1982', 4197),\n",
       " ('1985', 5343),\n",
       " ('1980', 2676),\n",
       " ('1987', 6529),\n",
       " ('1990', 8661),\n",
       " ('1981', 3279),\n",
       " ('1984', 4986),\n",
       " ('1968', 233),\n",
       " ('1961', 132),\n",
       " ('1958', 77),\n",
       " ('1974', 1024),\n",
       " ('1976', 1599),\n",
       " ('1965', 173),\n",
       " ('1970', 459),\n",
       " ('1962', 123),\n",
       " ('1966', 183),\n",
       " ('1942', 14),\n",
       " ('1969', 339),\n",
       " ('1954', 54),\n",
       " ('1950', 32),\n",
       " ('1967', 176),\n",
       " ('2005', 46),\n",
       " ('1937', 5),\n",
       " ('1930', 13),\n",
       " ('1925', 2),\n",
       " ('1911', 19),\n",
       " ('1928', 2),\n",
       " ('1934', 1),\n",
       " ('1924', 2),\n",
       " ('2026', 1),\n",
       " ('2010', 2),\n",
       " ('1908', 1),\n",
       " ('1806', 1),\n",
       " ('1378', 1),\n",
       " ('1919', 1),\n",
       " ('2024', 1),\n",
       " ('2037', 1)]"
      ]
     },
     "execution_count": 54,
     "metadata": {},
     "output_type": "execute_result"
    }
   ],
   "source": [
    "result = data.groupBy(lambda b: b[3]).mapValues(len)\n",
    "result.take(result.count())"
   ]
  },
  {
   "cell_type": "code",
   "execution_count": null,
   "id": "bd27465e-9aa8-4486-aa27-0a5da4b017bb",
   "metadata": {},
   "outputs": [],
   "source": [
    "# 4. Vẽ biểu đồ cột biểu diễn số lượng sách xuất bản mỗi năm."
   ]
  },
  {
   "cell_type": "code",
   "execution_count": 57,
   "id": "e2c23141-eb6d-4128-870f-3b9cf50bb99c",
   "metadata": {},
   "outputs": [
    {
     "data": {
      "text/plain": [
       "<BarContainer object of 116 artists>"
      ]
     },
     "execution_count": 57,
     "metadata": {},
     "output_type": "execute_result"
    },
    {
     "data": {
      "image/png": "[encoded data removed]",
      "text/plain": [
       "<Figure size 2000x700 with 1 Axes>"
      ]
     },
     "metadata": {},
     "output_type": "display_data"
    }
   ],
   "source": [
    "import matplotlib.pyplot as plt\n",
    "\n",
    "all_result = result.take(result.count())\n",
    "\n",
    "x = [i[0] for i in all_result]\n",
    "y = [i[1] for i in all_result]\n",
    "plt.figure(figsize=(20,7))\n",
    "plt.bar(x, y, 0.1, color='blue')"
   ]
  },
  {
   "cell_type": "markdown",
   "id": "ac4f154a-bac0-4b24-9d8b-cd37fe5c54e8",
   "metadata": {},
   "source": [
    "# 5. Cho biết có bao nhiêu nhà xuất bản khác nhau trong data set."
   ]
  },
  {
   "cell_type": "code",
   "execution_count": 58,
   "id": "92ef2e61-6b04-4206-bd78-8e95534739bb",
   "metadata": {},
   "outputs": [
    {
     "name": "stdout",
     "output_type": "stream",
     "text": [
      "Number of unique Publisher: 16807\n"
     ]
    }
   ],
   "source": [
    "number_of_publisher = data.groupBy(lambda b: b[4]).count()\n",
    "print(\"Number of unique Publisher:\", number_of_publisher)"
   ]
  },
  {
   "cell_type": "markdown",
   "id": "b7732518-57ff-4dba-93d7-4f3def55b225",
   "metadata": {},
   "source": [
    "# 6. Cho biết tác giả xuất bản nhiều sách nhất."
   ]
  },
  {
   "cell_type": "code",
   "execution_count": 72,
   "id": "434d7605-b5f0-485f-88c1-76ea7037c4ac",
   "metadata": {},
   "outputs": [
    {
     "name": "stdout",
     "output_type": "stream",
     "text": [
      "[('Agatha Christie', 632)]\n"
     ]
    }
   ],
   "source": [
    "# Bai 7 - Case study 1\n",
    "# Example cua thay: maxToan = rdd.map(lambda x: x['Toan'] if x.get('Toan')!=None else 0).max()\n",
    "authors_with_total_books = data.groupBy(lambda b: b[2]).mapValues(len)\n",
    "# Tim so loung lon nhat\n",
    "max_book_count = authors_with_total_books.map(lambda x: int(x[1])).max()\n",
    "# Lay nhung tac gia co so luong book lon nhat, neu co nhieu tac gia cung so luon\n",
    "result6 = authors_with_total_books.filter(lambda x: x[1]==max_book_count)\n",
    "print(result6.collect())"
   ]
  },
  {
   "cell_type": "markdown",
   "id": "54a7382a-cc1e-49cd-888b-132fdc19e187",
   "metadata": {},
   "source": [
    "# 7. Cho biết số cuốn sách của mỗi tác giả xuất bản với từng nhà xuất bản trong từng năm"
   ]
  },
  {
   "cell_type": "code",
   "execution_count": 74,
   "id": "afdc15b4-bc2e-4553-bebd-288666c1e930",
   "metadata": {},
   "outputs": [
    {
     "ename": "SyntaxError",
     "evalue": "invalid syntax. Perhaps you forgot a comma? (64503998.py, line 1)",
     "output_type": "error",
     "traceback": [
      "\u001b[0;36m  Cell \u001b[0;32mIn[74], line 1\u001b[0;36m\u001b[0m\n\u001b[0;31m    data.groupBy(lambda b: b[2]+\"-\"+b[4]+\"-\"b[3]).mapValues(len)\u001b[0m\n\u001b[0m                           ^\u001b[0m\n\u001b[0;31mSyntaxError\u001b[0m\u001b[0;31m:\u001b[0m invalid syntax. Perhaps you forgot a comma?\n"
     ]
    }
   ],
   "source": [
    "data.groupBy(lambda b: b[2]+\"-\"+b[4]+\"-\"b[3]).mapValues(len)"
   ]
  }
 ],
 "metadata": {
  "kernelspec": {
   "display_name": "Python 3 (ipykernel)",
   "language": "python",
   "name": "python3"
  },
  "language_info": {
   "codemirror_mode": {
    "name": "ipython",
    "version": 3
   },
   "file_extension": ".py",
   "mimetype": "text/x-python",
   "name": "python",
   "nbconvert_exporter": "python",
   "pygments_lexer": "ipython3",
   "version": "3.11.9"
  }
 },
 "nbformat": 4,
 "nbformat_minor": 5
}
