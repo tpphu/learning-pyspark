{
 "cells": [
  {
   "cell_type": "markdown",
   "id": "6cb75cfd-3eff-4926-9d69-3848f4cca1ab",
   "metadata": {},
   "source": [
    "# Bài thực hành số 7. Sử dụng thư viện ML\n",
    "*Mục tiêu*: sử dụng được các lớp cơ bản của ML: Transform, Estmator, Pipeline để xây\n",
    "dựng mô hình học máy và đánh giá mô hình.\n",
    "\n",
    "## Nội dung thực hành:\n",
    "\n",
    "> Dự đoán khách hàng rời ngân hàng\n",
    "\n",
    "Cho bộ dữ liệu \"Churn_Modelling.csv\" mô tả các thông tin khách hàng của một ngân\n",
    "hàng, bao gồm:\n",
    "\n",
    "- RowNumber: số thứ tự của mỗi dòng trong bộ dữ liệu\n",
    "- CustomerId: mã số khách hàng\n",
    "- Surname: họ của khách hàng\n",
    "- CreditScore: điểm tín dụng của khách hàng\n",
    "- Geography: quốc gia của khách hàng\n",
    "- Gender: giới tính của khách hàng\n",
    "- Age: tuổi của khách hàng\n",
    "- Tenure: số năm khách hàng đã sử dụng dịch vụ của ngân hàng\n",
    "- Balance: số tiền trong tài khoản của khách hàng\n",
    "- NumOfProducts: số lượng sản phẩm mà khách hàng đã mua từ ngân hàng\n",
    "- HasCrCard: có sở hữu thẻ tín dụng không (1 nếu có, 0 nếu không)\n",
    "- IsActiveMember: khách hàng có đang hoạt động trong ngân hàng không (1 nếu đang hoạt động, 0 nếu không)\n",
    "- EstimatedSalary: ước tính thu nhập của khách hàng\n",
    "- Exited: khách hàng đã rời đi hay chưa (1 nếu đã rời đi, 0 nếu chưa)\n",
    "\n",
    "## Yêu cầu:\n",
    "\n",
    "a) Sử dụng PySpark để đọc dữ liệu vào DataFrame.\n",
    "b) Thực hiện một số thống kê, trực quan hóa để hiểu dữ liệu.\n",
    "c) Tiền xử lý dữ liệu, bao gồm: loại bỏ cột RowNumber, CustomerID, chuyển đổi giá\n",
    "trị chuỗi thành số, chuyển đổi các biến độc lập thành vector.\n",
    "d) Chia dữ liệu thành tập huấn luyện và tập kiểm tra với tỉ lệ 70/30.\n",
    "e) Sử dụng Logistic Regression để huấn luyện mô hình dự đoán khách hàng có rời\n",
    "khỏi ngân hàng không?\n",
    "f) Đánh giá hiệu suất của mô hình trên tập kiểm tra bằng độ chính xác, độ phủ, độ\n",
    "chính xác cân bằng, F1 score và AUC.\n",
    "g) Tạo pipeline để xây dựng mô hình từ bước chuẩn hóa dữ liệu đến chọn mô hình học\n",
    "máy. Sử dụng pipeline để huấn luyện mô hình từ dữ liệu huấn luyện.\n",
    "h) Lưu mô hình xây dựng bao gồm dữ liệu đã huấn luyện.\n",
    "i) Mở lại mô hình đã lưu và dự đoán lại cho dữ liệu test.\n",
    "\n",
    "## Lựa chọn thuộc tính xây dựng mô hình\n",
    "\n",
    "Từ việc hiểu dữ liệu, phân tích độ tương quan giữa các thuộc tính hãy chọn các thuộc\n",
    "tính cần thiết cho việc xây dựng mô hình.\n",
    "\n",
    "Xây dựng mô hình với các thuộc tính đã chọn.\n",
    "\n",
    "Đánh giá mô hình và so sánh kết quả đánh giá với mô hình xây dựng ở trên.\n",
    "\n",
    "## Thay đổi tham số của mô hình\n",
    "\n",
    "Thay đổi tham số của mô hình LogisticRegression như: maxIter, regParam rồi so sánh\n",
    "với kết quả ban đầu."
   ]
  },
  {
   "cell_type": "code",
   "execution_count": 2,
   "id": "1d5201fb-b040-4331-bc26-95602fe58757",
   "metadata": {},
   "outputs": [],
   "source": [
    "from pyspark.sql import SparkSession\n",
    "\n",
    "spark = SparkSession.builder.appName(\"tpphu-bai7\").getOrCreate()\n",
    "# spark.sparkContext.textFile => Dung lay context load file"
   ]
  },
  {
   "cell_type": "code",
   "execution_count": 3,
   "id": "5ab01819-637d-4acd-b742-f867efbf6271",
   "metadata": {},
   "outputs": [
    {
     "name": "stdout",
     "output_type": "stream",
     "text": [
      "root\n",
      " |-- RowNumber: integer (nullable = true)\n",
      " |-- CustomerId: integer (nullable = true)\n",
      " |-- Surname: string (nullable = true)\n",
      " |-- CreditScore: integer (nullable = true)\n",
      " |-- Geography: string (nullable = true)\n",
      " |-- Gender: string (nullable = true)\n",
      " |-- Age: integer (nullable = true)\n",
      " |-- Tenure: integer (nullable = true)\n",
      " |-- Balance: double (nullable = true)\n",
      " |-- NumOfProducts: integer (nullable = true)\n",
      " |-- HasCrCard: integer (nullable = true)\n",
      " |-- IsActiveMember: integer (nullable = true)\n",
      " |-- EstimatedSalary: double (nullable = true)\n",
      " |-- Exited: integer (nullable = true)\n",
      "\n",
      "+---------+----------+---------+-----------+---------+------+---+------+---------+-------------+---------+--------------+---------------+------+\n",
      "|RowNumber|CustomerId|  Surname|CreditScore|Geography|Gender|Age|Tenure|  Balance|NumOfProducts|HasCrCard|IsActiveMember|EstimatedSalary|Exited|\n",
      "+---------+----------+---------+-----------+---------+------+---+------+---------+-------------+---------+--------------+---------------+------+\n",
      "|        1|  15634602| Hargrave|        619|   France|Female| 42|     2|      0.0|            1|        1|             1|      101348.88|     1|\n",
      "|        2|  15647311|     Hill|        608|    Spain|Female| 41|     1| 83807.86|            1|        0|             1|      112542.58|     0|\n",
      "|        3|  15619304|     Onio|        502|   France|Female| 42|     8| 159660.8|            3|        1|             0|      113931.57|     1|\n",
      "|        4|  15701354|     Boni|        699|   France|Female| 39|     1|      0.0|            2|        0|             0|       93826.63|     0|\n",
      "|        5|  15737888| Mitchell|        850|    Spain|Female| 43|     2|125510.82|            1|        1|             1|        79084.1|     0|\n",
      "|        6|  15574012|      Chu|        645|    Spain|  Male| 44|     8|113755.78|            2|        1|             0|      149756.71|     1|\n",
      "|        7|  15592531| Bartlett|        822|   France|  Male| 50|     7|      0.0|            2|        1|             1|        10062.8|     0|\n",
      "|        8|  15656148|   Obinna|        376|  Germany|Female| 29|     4|115046.74|            4|        1|             0|      119346.88|     1|\n",
      "|        9|  15792365|       He|        501|   France|  Male| 44|     4|142051.07|            2|        0|             1|        74940.5|     0|\n",
      "|       10|  15592389|       H?|        684|   France|  Male| 27|     2|134603.88|            1|        1|             1|       71725.73|     0|\n",
      "|       11|  15767821|   Bearce|        528|   France|  Male| 31|     6|102016.72|            2|        0|             0|       80181.12|     0|\n",
      "|       12|  15737173|  Andrews|        497|    Spain|  Male| 24|     3|      0.0|            2|        1|             0|       76390.01|     0|\n",
      "|       13|  15632264|      Kay|        476|   France|Female| 34|    10|      0.0|            2|        1|             0|       26260.98|     0|\n",
      "|       14|  15691483|     Chin|        549|   France|Female| 25|     5|      0.0|            2|        0|             0|      190857.79|     0|\n",
      "|       15|  15600882|    Scott|        635|    Spain|Female| 35|     7|      0.0|            2|        1|             1|       65951.65|     0|\n",
      "|       16|  15643966|  Goforth|        616|  Germany|  Male| 45|     3|143129.41|            2|        0|             1|       64327.26|     0|\n",
      "|       17|  15737452|    Romeo|        653|  Germany|  Male| 58|     1|132602.88|            1|        1|             0|        5097.67|     1|\n",
      "|       18|  15788218|Henderson|        549|    Spain|Female| 24|     9|      0.0|            2|        1|             1|       14406.41|     0|\n",
      "|       19|  15661507|  Muldrow|        587|    Spain|  Male| 45|     6|      0.0|            1|        0|             0|      158684.81|     0|\n",
      "|       20|  15568982|      Hao|        726|   France|Female| 24|     6|      0.0|            2|        1|             1|       54724.03|     0|\n",
      "+---------+----------+---------+-----------+---------+------+---+------+---------+-------------+---------+--------------+---------------+------+\n",
      "only showing top 20 rows\n",
      "\n"
     ]
    }
   ],
   "source": [
    "# a. Sử dụng PySpark để đọc dữ liệu vào DataFrame.\n",
    "df_churn_model = spark.read.csv(\"Churn_Modelling.csv\", header=True,inferSchema=True)\n",
    "df_churn_model.printSchema()\n",
    "df_churn_model.show()"
   ]
  },
  {
   "cell_type": "code",
   "execution_count": 4,
   "id": "5a12159c-42b1-44e4-9a66-0eaf4138f16b",
   "metadata": {},
   "outputs": [
    {
     "data": {
      "text/plain": [
       "10000"
      ]
     },
     "execution_count": 4,
     "metadata": {},
     "output_type": "execute_result"
    }
   ],
   "source": [
    "# b Thực hiện một số thống kê, trực quan hóa để hiểu dữ liệu\n",
    "\n",
    "df_churn_model.count()"
   ]
  },
  {
   "cell_type": "code",
   "execution_count": 7,
   "id": "3563f360-cf69-45dc-aad4-6b6627c9bf61",
   "metadata": {},
   "outputs": [
    {
     "name": "stdout",
     "output_type": "stream",
     "text": [
      "+---------------------+\n",
      "|skewness(CreditScore)|\n",
      "+---------------------+\n",
      "| -0.07159586676212142|\n",
      "+---------------------+\n",
      "\n"
     ]
    }
   ],
   "source": [
    "from pyspark.sql.functions import skewness\n",
    "df_churn_model.select(skewness(\"CreditScore\")).show()"
   ]
  },
  {
   "cell_type": "code",
   "execution_count": 8,
   "id": "91dc7bd1-0644-4688-95f7-c8fd99cd7b53",
   "metadata": {},
   "outputs": [],
   "source": [
    "import matplotlib.pyplot as plt\n",
    "plt.style.use('ggplot')"
   ]
  },
  {
   "cell_type": "code",
   "execution_count": 13,
   "id": "5d875d0c-3cf2-462f-bb73-0efedd84d068",
   "metadata": {},
   "outputs": [
    {
     "name": "stdout",
     "output_type": "stream",
     "text": [
      "([350, 375, 400, 425, 450, 475, 500, 525, 550, 575, 600, 625, 650, 675, 700, 725, 750, 775, 800, 825, 850], [12, 7, 47, 119, 166, 281, 419, 539, 628, 816, 881, 985, 969, 983, 851, 674, 554, 414, 251, 404])\n"
     ]
    }
   ],
   "source": [
    "hists = df_churn_model.select('CreditScore').rdd.flatMap(lambda row: row).histogram(20)\n",
    "print(hists)"
   ]
  },
  {
   "cell_type": "code",
   "execution_count": 12,
   "id": "38fd4e64-8b03-49cf-a188-ed4878050024",
   "metadata": {},
   "outputs": [
    {
     "data": {
      "text/plain": [
       "Text(0.5, 1.0, \"Histogram of 'CreditScore'\")"
      ]
     },
     "execution_count": 12,
     "metadata": {},
     "output_type": "execute_result"
    },
    {
     "data": {
      "image/png": "[encoded data removed]",
      "text/plain": [
       "<Figure size 640x480 with 1 Axes>"
      ]
     },
     "metadata": {},
     "output_type": "display_data"
    }
   ],
   "source": [
    "data = {'bins': hists[0][:-1],'freq': hists[1]}\n",
    "\n",
    "plt.bar(data['bins'], data['freq'],width=2000)\n",
    "plt.title('Histogram of \\'CreditScore\\'')"
   ]
  },
  {
   "cell_type": "code",
   "execution_count": 14,
   "id": "abbe9e1a-00bc-4f93-9c4d-f47de06bc03c",
   "metadata": {},
   "outputs": [
    {
     "data": {
      "text/plain": [
       "10000"
      ]
     },
     "execution_count": 14,
     "metadata": {},
     "output_type": "execute_result"
    }
   ],
   "source": [
    "df_churn_model.where('CreditScore > 0').count()"
   ]
  },
  {
   "cell_type": "code",
   "execution_count": 20,
   "id": "df068dc5-95dc-43b3-807e-8036656841a3",
   "metadata": {},
   "outputs": [
    {
     "data": {
      "text/plain": [
       "([0, 25, 50], [25, 26])"
      ]
     },
     "execution_count": 20,
     "metadata": {},
     "output_type": "execute_result"
    }
   ],
   "source": [
    "sc = spark.sparkContext\n",
    "rdd = sc.parallelize(range(51))\n",
    "rdd.histogram(2)"
   ]
  },
  {
   "cell_type": "code",
   "execution_count": 19,
   "id": "20224755-fa4e-41da-8c35-145963bf19ca",
   "metadata": {},
   "outputs": [
    {
     "name": "stdout",
     "output_type": "stream",
     "text": [
      "0\n",
      "1\n",
      "2\n",
      "3\n",
      "4\n",
      "5\n",
      "6\n",
      "7\n",
      "8\n",
      "9\n",
      "10\n",
      "11\n",
      "12\n",
      "13\n",
      "14\n",
      "15\n",
      "16\n",
      "17\n",
      "18\n",
      "19\n",
      "20\n",
      "21\n",
      "22\n",
      "23\n",
      "24\n",
      "25\n",
      "26\n",
      "27\n",
      "28\n",
      "29\n",
      "30\n",
      "31\n",
      "32\n",
      "33\n",
      "34\n",
      "35\n",
      "36\n",
      "37\n",
      "38\n",
      "39\n",
      "40\n",
      "41\n",
      "42\n",
      "43\n",
      "44\n",
      "45\n",
      "46\n",
      "47\n",
      "48\n",
      "49\n",
      "50\n"
     ]
    }
   ],
   "source": [
    "for i in range(0, 51):\n",
    "    print(i)"
   ]
  },
  {
   "cell_type": "code",
   "execution_count": 22,
   "id": "2a028af8-1941-4eb6-8129-4a09ebdc254e",
   "metadata": {},
   "outputs": [
    {
     "name": "stdout",
     "output_type": "stream",
     "text": [
      "root\n",
      " |-- Surname: string (nullable = true)\n",
      " |-- CreditScore: integer (nullable = true)\n",
      " |-- Geography: string (nullable = true)\n",
      " |-- Gender: string (nullable = true)\n",
      " |-- Age: integer (nullable = true)\n",
      " |-- Tenure: integer (nullable = true)\n",
      " |-- Balance: double (nullable = true)\n",
      " |-- NumOfProducts: integer (nullable = true)\n",
      " |-- HasCrCard: integer (nullable = true)\n",
      " |-- IsActiveMember: integer (nullable = true)\n",
      " |-- EstimatedSalary: double (nullable = true)\n",
      " |-- Exited: integer (nullable = true)\n",
      "\n"
     ]
    }
   ],
   "source": [
    "# c) Tiền xử lý dữ liệu, bao gồm: loại bỏ cột RowNumber, CustomerID, chuyển đổi giá \n",
    "# trị chuỗi thành số, chuyển đổi các biến độc lập thành vector.\n",
    "df_churn_model_clean = df_churn_model.drop(df_churn_model['RowNumber'], 'CustomerId')\n",
    "df_churn_model_clean.printSchema()"
   ]
  },
  {
   "cell_type": "code",
   "execution_count": 23,
   "id": "720f7ca2-8b84-4f08-a3a9-fbefd1db7147",
   "metadata": {},
   "outputs": [
    {
     "name": "stdout",
     "output_type": "stream",
     "text": [
      "+------+\n",
      "|Gender|\n",
      "+------+\n",
      "|Female|\n",
      "|Female|\n",
      "|Female|\n",
      "|Female|\n",
      "|Female|\n",
      "|  Male|\n",
      "|  Male|\n",
      "|Female|\n",
      "|  Male|\n",
      "|  Male|\n",
      "|  Male|\n",
      "|  Male|\n",
      "|Female|\n",
      "|Female|\n",
      "|Female|\n",
      "|  Male|\n",
      "|  Male|\n",
      "|Female|\n",
      "|  Male|\n",
      "|Female|\n",
      "+------+\n",
      "only showing top 20 rows\n",
      "\n"
     ]
    }
   ],
   "source": [
    "df_churn_model_clean.select('Gender').show()"
   ]
  },
  {
   "cell_type": "code",
   "execution_count": 26,
   "id": "af15bf0e-f88e-4aeb-9a36-e77ce9d283fc",
   "metadata": {},
   "outputs": [
    {
     "name": "stdout",
     "output_type": "stream",
     "text": [
      "+------+\n",
      "|Gender|\n",
      "+------+\n",
      "|     2|\n",
      "|     2|\n",
      "|     2|\n",
      "|     2|\n",
      "|     2|\n",
      "|     2|\n",
      "|     2|\n",
      "|     2|\n",
      "|     2|\n",
      "|     2|\n",
      "|     2|\n",
      "|     2|\n",
      "|     2|\n",
      "|     2|\n",
      "|     2|\n",
      "|     2|\n",
      "|     2|\n",
      "|     2|\n",
      "|     2|\n",
      "|     2|\n",
      "+------+\n",
      "only showing top 20 rows\n",
      "\n",
      "root\n",
      " |-- Surname: string (nullable = true)\n",
      " |-- CreditScore: integer (nullable = true)\n",
      " |-- Geography: string (nullable = true)\n",
      " |-- Gender: integer (nullable = false)\n",
      " |-- Age: integer (nullable = true)\n",
      " |-- Tenure: integer (nullable = true)\n",
      " |-- Balance: double (nullable = true)\n",
      " |-- NumOfProducts: integer (nullable = true)\n",
      " |-- HasCrCard: integer (nullable = true)\n",
      " |-- IsActiveMember: integer (nullable = true)\n",
      " |-- EstimatedSalary: double (nullable = true)\n",
      " |-- Exited: integer (nullable = true)\n",
      "\n"
     ]
    }
   ],
   "source": [
    "from pyspark.sql import functions as F\n",
    "df_churn_model_clean = df_churn_model_clean.withColumn('Gender',F.when(F.col('Gender')=='Female',1).otherwise(2))\n",
    "df_churn_model_clean.select(F.col('Gender')).show()\n",
    "df_churn_model_clean.printSchema()"
   ]
  },
  {
   "cell_type": "code",
   "execution_count": 27,
   "id": "b2043822-8020-426d-8950-049b493d25ed",
   "metadata": {},
   "outputs": [
    {
     "name": "stdout",
     "output_type": "stream",
     "text": [
      "+---+------+\n",
      "| Id| Color|\n",
      "+---+------+\n",
      "|  1|   Red|\n",
      "|  2|   Red|\n",
      "|  3|Yellow|\n",
      "|  4| Green|\n",
      "|  5|Yellow|\n",
      "+---+------+\n",
      "\n",
      "+---+------+---------+\n",
      "| Id| Color|Color_int|\n",
      "+---+------+---------+\n",
      "|  1|   Red|        0|\n",
      "|  2|   Red|        0|\n",
      "|  3|Yellow|        1|\n",
      "|  4| Green|        2|\n",
      "|  5|Yellow|        1|\n",
      "+---+------+---------+\n",
      "\n"
     ]
    }
   ],
   "source": [
    "# Create du lieu\n",
    "\n",
    "df = spark.createDataFrame([(1, 'Red'), (2, 'Red'), (3, 'Yellow'),(4, 'Green'), (5, 'Yellow')], ['Id','Color'])\n",
    "df.show()\n",
    "# Chuyen xau thanh so\n",
    "import pyspark.sql.functions as f\n",
    "import pyspark.sql.types as typ\n",
    "dict = {'Red':0, 'Yellow':1, 'Green':2}\n",
    "def convColor(str):\n",
    "    return dict[str]\n",
    "convC = f.udf(convColor,typ.IntegerType())\n",
    "df = df.withColumn('Color_int',convC(f.col('Color')))\n",
    "df.show()"
   ]
  },
  {
   "cell_type": "code",
   "execution_count": 33,
   "id": "f14fc431-2c14-4086-ab9c-4ecd96c615ae",
   "metadata": {},
   "outputs": [
    {
     "name": "stdout",
     "output_type": "stream",
     "text": [
      "+---+------+---------+\n",
      "| Id| Color|Color_int|\n",
      "+---+------+---------+\n",
      "|  1|   Red|        0|\n",
      "|  2|   Red|        0|\n",
      "|  3|Yellow|        1|\n",
      "|  4| Green|        2|\n",
      "|  5|Yellow|        1|\n",
      "+---+------+---------+\n",
      "\n",
      "+---+------+---------+-------------+\n",
      "| Id| Color|Color_int|    Color_OHE|\n",
      "+---+------+---------+-------------+\n",
      "|  1|   Red|        0|(2,[0],[1.0])|\n",
      "|  2|   Red|        0|(2,[0],[1.0])|\n",
      "|  3|Yellow|        1|(2,[1],[1.0])|\n",
      "|  4| Green|        2|    (2,[],[])|\n",
      "|  5|Yellow|        1|(2,[1],[1.0])|\n",
      "+---+------+---------+-------------+\n",
      "\n"
     ]
    }
   ],
   "source": [
    "from pyspark.ml.feature import OneHotEncoder\n",
    "oneHot = OneHotEncoder(inputCol='Color_int',outputCol='Color_OHE')\n",
    "df2 = oneHot.fit(df).transform(df)\n",
    "df.show()\n",
    "df2.show()"
   ]
  },
  {
   "cell_type": "code",
   "execution_count": null,
   "id": "0f438550-cfdd-47fa-8e95-9f0441b4c5bc",
   "metadata": {},
   "outputs": [],
   "source": [
    "# d) Chia dữ liệu thành tập huấn luyện và tập kiểm tra với tỉ lệ 70/30.\n",
    "# e) Sử dụng Logistic Regression để huấn luyện mô hình dự đoán khách hàng có rời khỏi ngân hàng không?"
   ]
  },
  {
   "cell_type": "code",
   "execution_count": 41,
   "id": "02be6745-6b14-4d2e-aedd-b3b5aed418ac",
   "metadata": {},
   "outputs": [
    {
     "name": "stdout",
     "output_type": "stream",
     "text": [
      "Train dataset 6936\n",
      "Test dataset 3064\n"
     ]
    }
   ],
   "source": [
    "(df_train, df_test) = df_churn_model_clean.randomSplit([0.7, 0.3])\n",
    "print(\"Train dataset {0}\".format(df_train.count()))\n",
    "print(\"Test dataset {0}\".format(df_test.count()))"
   ]
  },
  {
   "cell_type": "code",
   "execution_count": 42,
   "id": "7bff64a5-efad-49e8-b993-cec18a614a38",
   "metadata": {},
   "outputs": [
    {
     "name": "stdout",
     "output_type": "stream",
     "text": [
      "+----------+-----------+---------+------+---+------+---------+-------------+---------+--------------+---------------+------+\n",
      "|   Surname|CreditScore|Geography|Gender|Age|Tenure|  Balance|NumOfProducts|HasCrCard|IsActiveMember|EstimatedSalary|Exited|\n",
      "+----------+-----------+---------+------+---+------+---------+-------------+---------+--------------+---------------+------+\n",
      "|     Abazu|        710|    Spain|     2| 28|     6|      0.0|            1|        1|             0|       48426.98|     0|\n",
      "|     Abbie|        818|   France|     2| 31|     1|186796.37|            1|        0|             0|      178252.63|     0|\n",
      "|    Abbott|        573|   France|     2| 33|     0| 90124.64|            1|        1|             0|      137476.71|     0|\n",
      "|    Abbott|        645|   France|     2| 24|     3| 34547.82|            1|        1|             1|       11638.17|     0|\n",
      "|    Abbott|        850|   France|     2| 29|     6|      0.0|            2|        1|             1|       10672.54|     0|\n",
      "|  Abdullah|        802|   France|     2| 60|     3| 92887.06|            1|        1|             0|       39473.63|     1|\n",
      "|   Abdulov|        667|    Spain|     2| 36|     3|121542.57|            2|        1|             1|      186841.71|     0|\n",
      "|      Abel|        544|   France|     2| 40|     8|      0.0|            2|        1|             0|        61581.2|     0|\n",
      "| Abernathy|        560|   France|     2| 30|     0|108883.29|            1|        1|             0|       27914.95|     0|\n",
      "| Abernathy|        641|    Spain|     2| 36|     1|      0.0|            2|        1|             0|      102021.39|     0|\n",
      "|   Abramov|        755|   France|     2| 41|     6|104817.41|            1|        1|             0|      126013.58|     1|\n",
      "|  Abramova|        661|  Germany|     2| 41|     5|122552.48|            2|        0|             1|       120646.4|     0|\n",
      "|  Abramova|        706|    Spain|     2| 53|     3|      0.0|            3|        0|             0|       88479.02|     1|\n",
      "|Abramovich|        604|    Spain|     2| 26|     3|      0.0|            2|        1|             0|      155248.62|     0|\n",
      "|Abramovich|        667|   France|     2| 44|     2|122806.95|            1|        0|             0|       15120.86|     0|\n",
      "|Abramowitz|        690|   France|     2| 54|     5|      0.0|            1|        1|             0|       12847.61|     1|\n",
      "|    Abrego|        702|  Germany|     2| 23|     7| 98775.23|            1|        1|             0|      114603.96|     0|\n",
      "|     Abron|        708|   France|     2| 41|     0|      0.0|            1|        1|             0|      128400.62|     0|\n",
      "|    Achebe|        651|  Germany|     2| 41|     4|133432.59|            1|        0|             1|      151303.48|     0|\n",
      "|     Adams|        539|   France|     2| 40|     7| 81132.21|            1|        1|             0|      167289.82|     0|\n",
      "+----------+-----------+---------+------+---+------+---------+-------------+---------+--------------+---------------+------+\n",
      "only showing top 20 rows\n",
      "\n"
     ]
    }
   ],
   "source": [
    "df_train.show()"
   ]
  },
  {
   "cell_type": "code",
   "execution_count": 92,
   "id": "f1530ec1-0eed-475f-9c88-441bd93b6394",
   "metadata": {},
   "outputs": [
    {
     "name": "stdout",
     "output_type": "stream",
     "text": [
      "+---------+---------+--------------+---------------+------+------+--------------------+\n",
      "|  Balance|HasCrCard|IsActiveMember|EstimatedSalary|Exited|weight|            features|\n",
      "+---------+---------+--------------+---------------+------+------+--------------------+\n",
      "|      0.0|        1|             1|      101348.88|     1|     2|[0.0,1.0,1.0,1013...|\n",
      "| 83807.86|        0|             1|      112542.58|     0|     1|[83807.86,0.0,1.0...|\n",
      "| 159660.8|        1|             0|      113931.57|     1|     2|[159660.8,1.0,0.0...|\n",
      "|      0.0|        0|             0|       93826.63|     0|     1|  (4,[3],[93826.63])|\n",
      "|125510.82|        1|             1|        79084.1|     0|     1|[125510.82,1.0,1....|\n",
      "|113755.78|        1|             0|      149756.71|     1|     2|[113755.78,1.0,0....|\n",
      "|      0.0|        1|             1|        10062.8|     0|     1|[0.0,1.0,1.0,1006...|\n",
      "|115046.74|        1|             0|      119346.88|     1|     2|[115046.74,1.0,0....|\n",
      "|142051.07|        0|             1|        74940.5|     0|     1|[142051.07,0.0,1....|\n",
      "|134603.88|        1|             1|       71725.73|     0|     1|[134603.88,1.0,1....|\n",
      "|102016.72|        0|             0|       80181.12|     0|     1|[102016.72,0.0,0....|\n",
      "|      0.0|        1|             0|       76390.01|     0|     1|[0.0,1.0,0.0,7639...|\n",
      "|      0.0|        1|             0|       26260.98|     0|     1|[0.0,1.0,0.0,2626...|\n",
      "|      0.0|        0|             0|      190857.79|     0|     1| (4,[3],[190857.79])|\n",
      "|      0.0|        1|             1|       65951.65|     0|     1|[0.0,1.0,1.0,6595...|\n",
      "|143129.41|        0|             1|       64327.26|     0|     1|[143129.41,0.0,1....|\n",
      "|132602.88|        1|             0|        5097.67|     1|     2|[132602.88,1.0,0....|\n",
      "|      0.0|        1|             1|       14406.41|     0|     1|[0.0,1.0,1.0,1440...|\n",
      "|      0.0|        0|             0|      158684.81|     0|     1| (4,[3],[158684.81])|\n",
      "|      0.0|        1|             1|       54724.03|     0|     1|[0.0,1.0,1.0,5472...|\n",
      "+---------+---------+--------------+---------------+------+------+--------------------+\n",
      "only showing top 20 rows\n",
      "\n"
     ]
    }
   ],
   "source": [
    "from pyspark.ml.feature import VectorAssembler\n",
    "# Tạo cột đặc trưng từ các cột gender, balance và numTrans\n",
    "assembler = VectorAssembler(inputCols=[\"Balance\",\"HasCrCard\",\"IsActiveMember\",\"EstimatedSalary\"],outputCol=\"features\")\n",
    "data = assembler.transform(df_churn_model_clean)\n",
    "# Bo sung them trong so\n",
    "data = data.withColumn(\"weight\", F.when(f.col(\"Exited\") == 1, 2).otherwise(1))\n",
    "data = data.select(\"Balance\",\"HasCrCard\",\"IsActiveMember\",\"EstimatedSalary\",\"Exited\",\"weight\", \"features\")\n",
    "data.show()"
   ]
  },
  {
   "cell_type": "code",
   "execution_count": 93,
   "id": "840ccff8-0166-4b12-bce4-5c56ad0c474f",
   "metadata": {},
   "outputs": [],
   "source": [
    "from pyspark.ml.classification import LogisticRegression\n",
    "# Xây dựng mô hình\n",
    "lr = LogisticRegression(featuresCol=\"features\", labelCol=\"Exited\", weightCol=\"weight\")\n",
    "# Chia dữ liệu train và test\n",
    "data_train, data_test = data.randomSplit([0.8, 0.2])\n",
    "# Huấn luyện mô hình bằng dữ liệu train\n",
    "model = lr.fit(data_train)"
   ]
  },
  {
   "cell_type": "code",
   "execution_count": 94,
   "id": "6ddca811-ffd7-4d6b-b526-0433fd20c752",
   "metadata": {
    "scrolled": true
   },
   "outputs": [
    {
     "name": "stdout",
     "output_type": "stream",
     "text": [
      "+--------+---------+--------------+---------------+------+------+--------------------+\n",
      "| Balance|HasCrCard|IsActiveMember|EstimatedSalary|Exited|weight|            features|\n",
      "+--------+---------+--------------+---------------+------+------+--------------------+\n",
      "|38550.06|        0|             1|      179230.23|     0|     1|[38550.06,0.0,1.0...|\n",
      "|40169.88|        1|             1|      199857.47|     0|     1|[40169.88,1.0,1.0...|\n",
      "|41299.03|        0|             1|      102681.32|     0|     1|[41299.03,0.0,1.0...|\n",
      "|43772.66|        1|             0|      187756.24|     1|     2|[43772.66,1.0,0.0...|\n",
      "|45144.43|        1|             0|       60917.24|     1|     2|[45144.43,1.0,0.0...|\n",
      "|45408.85|        1|             0|       18732.91|     0|     1|[45408.85,1.0,0.0...|\n",
      "|45472.28|        1|             1|       41055.71|     1|     2|[45472.28,1.0,1.0...|\n",
      "|46323.57|        1|             0|      136812.02|     0|     1|[46323.57,1.0,0.0...|\n",
      "|46520.69|        1|             1|       96687.25|     0|     1|[46520.69,1.0,1.0...|\n",
      "|46870.43|        1|             0|       31272.14|     1|     2|[46870.43,1.0,0.0...|\n",
      "|47020.65|        0|             1|       63241.21|     1|     2|[47020.65,0.0,1.0...|\n",
      "|49113.75|        1|             0|       41858.43|     0|     1|[49113.75,1.0,0.0...|\n",
      "|52106.33|        1|             1|      107964.36|     0|     1|[52106.33,1.0,1.0...|\n",
      "| 52436.2|        1|             0|      161051.75|     0|     1|[52436.2,1.0,0.0,...|\n",
      "|54428.37|        1|             0|      109638.78|     1|     2|[54428.37,1.0,0.0...|\n",
      "|54503.55|        1|             1|         371.05|     0|     1|[54503.55,1.0,1.0...|\n",
      "|55053.62|        1|             0|      181757.19|     0|     1|[55053.62,1.0,0.0...|\n",
      "|55853.33|        0|             1|       94811.85|     1|     2|[55853.33,0.0,1.0...|\n",
      "| 56116.3|        0|             0|        2181.94|     0|     1|[56116.3,0.0,0.0,...|\n",
      "|56726.83|        0|             1|      185543.35|     0|     1|[56726.83,0.0,1.0...|\n",
      "+--------+---------+--------------+---------------+------+------+--------------------+\n",
      "only showing top 20 rows\n",
      "\n"
     ]
    }
   ],
   "source": [
    "data_test.where('Balance> 0').show()"
   ]
  },
  {
   "cell_type": "code",
   "execution_count": 95,
   "id": "c84bb22e-0027-4052-8cbe-c9352d4c32e1",
   "metadata": {},
   "outputs": [
    {
     "name": "stdout",
     "output_type": "stream",
     "text": [
      "+-------+---------+--------------+---------------+------+------+------------------+--------------------+--------------------+----------+\n",
      "|Balance|HasCrCard|IsActiveMember|EstimatedSalary|Exited|weight|          features|       rawPrediction|         probability|prediction|\n",
      "+-------+---------+--------------+---------------+------+------+------------------+--------------------+--------------------+----------+\n",
      "|    0.0|        0|             0|         735.79|     0|     1|  (4,[3],[735.79])|[0.74593993734459...|[0.67829338902200...|       0.0|\n",
      "|    0.0|        0|             0|         3749.0|     1|     2|  (4,[3],[3749.0])|[0.74417908514247...|[0.67790903030959...|       0.0|\n",
      "|    0.0|        0|             0|        5459.07|     1|     2| (4,[3],[5459.07])|[0.74317975866828...|[0.67769079021335...|       0.0|\n",
      "|    0.0|        0|             0|        6139.74|     0|     1| (4,[3],[6139.74])|[0.74278199041834...|[0.67760390115217...|       0.0|\n",
      "|    0.0|        0|             0|       10662.58|     0|     1|(4,[3],[10662.58])|[0.74013894437314...|[0.67702623880012...|       0.0|\n",
      "|    0.0|        0|             0|       11514.39|     0|     1|(4,[3],[11514.39])|[0.73964116575357...|[0.67691738408556...|       0.0|\n",
      "|    0.0|        0|             0|       13007.89|     0|     1|(4,[3],[13007.89])|[0.73876839791997...|[0.67672648008663...|       0.0|\n",
      "|    0.0|        0|             0|       13160.03|     0|     1|(4,[3],[13160.03])|[0.73867949072331...|[0.67670702975355...|       0.0|\n",
      "|    0.0|        0|             0|       14121.61|     0|     1|(4,[3],[14121.61])|[0.73811756498282...|[0.67658408245507...|       0.0|\n",
      "|    0.0|        0|             0|       17550.49|     0|     1|(4,[3],[17550.49])|[0.73611380457488...|[0.67614546843724...|       0.0|\n",
      "|    0.0|        0|             0|       18522.91|     1|     2|(4,[3],[18522.91])|[0.73554554418201...|[0.67602102242943...|       0.0|\n",
      "|    0.0|        0|             0|       22074.48|     0|     1|(4,[3],[22074.48])|[0.73347008649553...|[0.67556629678515...|       0.0|\n",
      "|    0.0|        0|             0|       22710.72|     0|     1|(4,[3],[22710.72])|[0.73309828213902...|[0.67548480069791...|       0.0|\n",
      "|    0.0|        0|             0|       25684.93|     0|     1|(4,[3],[25684.93])|[0.73136022066037...|[0.67510369264092...|       0.0|\n",
      "|    0.0|        0|             0|       29388.02|     0|     1|(4,[3],[29388.02])|[0.72919621809130...|[0.67462886339820...|       0.0|\n",
      "|    0.0|        0|             0|       31641.52|     1|     2|(4,[3],[31641.52])|[0.72787932333870...|[0.67433973228243...|       0.0|\n",
      "|    0.0|        0|             0|       32863.24|     1|     2|(4,[3],[32863.24])|[0.72716537762885...|[0.67418292625438...|       0.0|\n",
      "|    0.0|        0|             0|       37171.46|     0|     1|(4,[3],[37171.46])|[0.72464775068807...|[0.67362966121486...|       0.0|\n",
      "|    0.0|        0|             0|       38433.35|     0|     1|(4,[3],[38433.35])|[0.72391033053304...|[0.67346751661937...|       0.0|\n",
      "|    0.0|        0|             0|       48131.92|     0|     1|(4,[3],[48131.92])|[0.71824270420034...|[0.67221993124015...|       0.0|\n",
      "+-------+---------+--------------+---------------+------+------+------------------+--------------------+--------------------+----------+\n",
      "only showing top 20 rows\n",
      "\n"
     ]
    }
   ],
   "source": [
    "test_model = model.transform(data_test)\n",
    "test_model.show()"
   ]
  },
  {
   "cell_type": "code",
   "execution_count": 140,
   "id": "57324eac-01b9-4271-8101-96590f3defcf",
   "metadata": {},
   "outputs": [
    {
     "data": {
      "text/plain": [
       "[Row(features=SparseVector(4, {3: 735.79}))]"
      ]
     },
     "execution_count": 140,
     "metadata": {},
     "output_type": "execute_result"
    }
   ],
   "source": [
    "test_model.where('EstimatedSalary == 735.79').select('features').take(1)"
   ]
  },
  {
   "cell_type": "code",
   "execution_count": 147,
   "id": "1d16556a-5d61-4d97-8136-6c87e97c73de",
   "metadata": {},
   "outputs": [
    {
     "data": {
      "text/plain": [
       "[Row(Balance=137430.82, HasCrCard=0, IsActiveMember=0, EstimatedSalary=176768.59, Exited=0, weight=1, features=DenseVector([137430.82, 0.0, 0.0, 176768.59]), rawPrediction=DenseVector([-0.0006, 0.0006]), probability=DenseVector([0.4998, 0.5002]), prediction=1.0)]"
      ]
     },
     "execution_count": 147,
     "metadata": {},
     "output_type": "execute_result"
    }
   ],
   "source": [
    "test_model.where('prediction > 0').take(1)"
   ]
  },
  {
   "cell_type": "code",
   "execution_count": 118,
   "id": "d1c07b73-223c-486e-a88f-0fddbe8984a3",
   "metadata": {},
   "outputs": [
    {
     "name": "stdout",
     "output_type": "stream",
     "text": [
      "root\n",
      " |-- Balance: double (nullable = true)\n",
      " |-- HasCrCard: integer (nullable = true)\n",
      " |-- IsActiveMember: integer (nullable = true)\n",
      " |-- EstimatedSalary: double (nullable = true)\n",
      " |-- Exited: integer (nullable = true)\n",
      " |-- weight: integer (nullable = false)\n",
      " |-- features: vector (nullable = true)\n",
      "\n"
     ]
    }
   ],
   "source": [
    "data.printSchema()"
   ]
  },
  {
   "cell_type": "code",
   "execution_count": 119,
   "id": "8445c2fb-d21b-4a2b-97dc-2886b8417f73",
   "metadata": {},
   "outputs": [
    {
     "data": {
      "text/plain": [
       "2015"
      ]
     },
     "execution_count": 119,
     "metadata": {},
     "output_type": "execute_result"
    }
   ],
   "source": [
    "test_model.count()"
   ]
  },
  {
   "cell_type": "code",
   "execution_count": 120,
   "id": "6404d4c7-045d-45ca-a6cf-4896e0e1212a",
   "metadata": {},
   "outputs": [
    {
     "data": {
      "text/plain": [
       "1562"
      ]
     },
     "execution_count": 120,
     "metadata": {},
     "output_type": "execute_result"
    }
   ],
   "source": [
    "test_model.where((F.col('Exited') == F.col('prediction'))).count()"
   ]
  },
  {
   "cell_type": "code",
   "execution_count": 102,
   "id": "d90b7d17-6bee-4d0d-90a1-9691f968eaf8",
   "metadata": {},
   "outputs": [
    {
     "data": {
      "text/plain": [
       "0.7751861042183623"
      ]
     },
     "execution_count": 102,
     "metadata": {},
     "output_type": "execute_result"
    }
   ],
   "source": [
    "1562/2015"
   ]
  },
  {
   "cell_type": "code",
   "execution_count": 150,
   "id": "b0d1a68f-28af-451b-935b-4d6da4506707",
   "metadata": {},
   "outputs": [
    {
     "name": "stdout",
     "output_type": "stream",
     "text": [
      "+---+----+------+----------------+-------+\n",
      "| id|hour|mobile|    userFeatures|clicked|\n",
      "+---+----+------+----------------+-------+\n",
      "|  0|  18|   1.0|(4,[3],[735.79])|    1.0|\n",
      "+---+----+------+----------------+-------+\n",
      "\n"
     ]
    }
   ],
   "source": [
    "from pyspark.ml.linalg import Vectors,SparseVector,DenseVector\n",
    "from pyspark.ml.feature import VectorAssembler\n",
    "\n",
    "dataset = spark.createDataFrame(\n",
    "    [(0, 18, 1.0, SparseVector(4, {3: 735.79}), 1.0)],\n",
    "    [\"id\", \"hour\", \"mobile\", \"userFeatures\", \"clicked\"])\n",
    "\n",
    "dataset.show()"
   ]
  },
  {
   "cell_type": "code",
   "execution_count": 151,
   "id": "6e213e5d-9596-4d5b-b6f6-16f8d3398f2d",
   "metadata": {},
   "outputs": [
    {
     "data": {
      "text/plain": [
       "0.0"
      ]
     },
     "execution_count": 151,
     "metadata": {},
     "output_type": "execute_result"
    }
   ],
   "source": [
    "model.predict(SparseVector(4, {3: 735.79}))"
   ]
  },
  {
   "cell_type": "code",
   "execution_count": 154,
   "id": "f28588ca-74c1-48cd-899a-0873f7f7a8d7",
   "metadata": {},
   "outputs": [
    {
     "data": {
      "text/plain": [
       "1.0"
      ]
     },
     "execution_count": 154,
     "metadata": {},
     "output_type": "execute_result"
    }
   ],
   "source": [
    "model.predict(DenseVector([137430.82, 0.0, 0.0, 176768.59]))"
   ]
  },
  {
   "cell_type": "code",
   "execution_count": 155,
   "id": "b341e97a-5ffb-4bf0-b44f-483d92948a59",
   "metadata": {},
   "outputs": [
    {
     "data": {
      "text/plain": [
       "0.0"
      ]
     },
     "execution_count": 155,
     "metadata": {},
     "output_type": "execute_result"
    }
   ],
   "source": [
    "model.predict(DenseVector([0, 0.0, 0.0, 735.79]))"
   ]
  },
  {
   "cell_type": "code",
   "execution_count": 156,
   "id": "7bcecb56-e123-4bdf-a895-2742cee1e11b",
   "metadata": {},
   "outputs": [
    {
     "name": "stdout",
     "output_type": "stream",
     "text": [
      "2024-09-22T08:44:15\n"
     ]
    }
   ],
   "source": [
    "from datetime import datetime, timedelta\n",
    "\n",
    "# Lấy thời gian hiện tại và thêm 5 phút\n",
    "execution_time = datetime.now() + timedelta(minutes=5)\n",
    "\n",
    "# Chuyển sang định dạng chuỗi phù hợp\n",
    "formatted_time = execution_time.strftime('%Y-%m-%dT%H:%M:%S')\n",
    "\n",
    "print(formatted_time)"
   ]
  }
 ],
 "metadata": {
  "kernelspec": {
   "display_name": "Python 3 (ipykernel)",
   "language": "python",
   "name": "python3"
  },
  "language_info": {
   "codemirror_mode": {
    "name": "ipython",
    "version": 3
   },
   "file_extension": ".py",
   "mimetype": "text/x-python",
   "name": "python",
   "nbconvert_exporter": "python",
   "pygments_lexer": "ipython3",
   "version": "3.11.9"
  }
 },
 "nbformat": 4,
 "nbformat_minor": 5
}
