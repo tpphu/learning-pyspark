{
 "cells": [
  {
   "cell_type": "code",
   "execution_count": 2,
   "id": "bca0ac22-fb29-4eef-a367-e21179d248c6",
   "metadata": {},
   "outputs": [],
   "source": [
    "from pyspark.sql import SparkSession\n",
    "\n",
    "spark = SparkSession.builder.appName(\"tpphu\").getOrCreate()"
   ]
  },
  {
   "cell_type": "code",
   "execution_count": 3,
   "id": "c814dbca-d593-4afb-bc34-1dd1f5ec8ccb",
   "metadata": {},
   "outputs": [
    {
     "name": "stdout",
     "output_type": "stream",
     "text": [
      "+----+----+-------+\n",
      "|col1|col2|new_col|\n",
      "+----+----+-------+\n",
      "|   1|   2|     10|\n",
      "|   3|   4|     10|\n",
      "+----+----+-------+\n",
      "\n"
     ]
    }
   ],
   "source": [
    "import pyspark.sql.functions as F\n",
    "\n",
    "# Create a DataFrame with a single column\n",
    "df = spark.createDataFrame([(1, 2), (3, 4)], [\"col1\", \"col2\"])\n",
    "\n",
    "# Add a new column with a constant value of 10 to the DataFrame\n",
    "df = df.withColumn(\"new_col\", F.lit(10))\n",
    "\n",
    "df.show()"
   ]
  },
  {
   "cell_type": "code",
   "execution_count": null,
   "id": "e3d13b4e-142b-4ea1-a2d3-917b98bd84c7",
   "metadata": {},
   "outputs": [],
   "source": []
  }
 ],
 "metadata": {
  "kernelspec": {
   "display_name": "Python 3 (ipykernel)",
   "language": "python",
   "name": "python3"
  },
  "language_info": {
   "codemirror_mode": {
    "name": "ipython",
    "version": 3
   },
   "file_extension": ".py",
   "mimetype": "text/x-python",
   "name": "python",
   "nbconvert_exporter": "python",
   "pygments_lexer": "ipython3",
   "version": "3.11.9"
  }
 },
 "nbformat": 4,
 "nbformat_minor": 5
}
