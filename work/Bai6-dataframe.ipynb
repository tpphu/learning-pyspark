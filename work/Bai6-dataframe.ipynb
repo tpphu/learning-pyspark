{
 "cells": [
  {
   "cell_type": "code",
   "execution_count": 2,
   "id": "bca0ac22-fb29-4eef-a367-e21179d248c6",
   "metadata": {},
   "outputs": [
    {
     "name": "stderr",
     "output_type": "stream",
     "text": [
      "----------------------------------------\n",
      "Exception occurred during processing of request from ('127.0.0.1', 57146)\n",
      "Traceback (most recent call last):\n",
      "  File \"/opt/conda/lib/python3.11/socketserver.py\", line 317, in _handle_request_noblock\n",
      "    self.process_request(request, client_address)\n",
      "  File \"/opt/conda/lib/python3.11/socketserver.py\", line 348, in process_request\n",
      "    self.finish_request(request, client_address)\n",
      "  File \"/opt/conda/lib/python3.11/socketserver.py\", line 361, in finish_request\n",
      "    self.RequestHandlerClass(request, client_address, self)\n",
      "  File \"/opt/conda/lib/python3.11/socketserver.py\", line 755, in __init__\n",
      "    self.handle()\n",
      "  File \"/usr/local/spark/python/pyspark/accumulators.py\", line 295, in handle\n",
      "    poll(accum_updates)\n",
      "  File \"/usr/local/spark/python/pyspark/accumulators.py\", line 267, in poll\n",
      "    if self.rfile in r and func():\n",
      "                           ^^^^^^\n",
      "  File \"/usr/local/spark/python/pyspark/accumulators.py\", line 271, in accum_updates\n",
      "    num_updates = read_int(self.rfile)\n",
      "                  ^^^^^^^^^^^^^^^^^^^^\n",
      "  File \"/usr/local/spark/python/pyspark/serializers.py\", line 596, in read_int\n",
      "    raise EOFError\n",
      "EOFError\n",
      "----------------------------------------\n"
     ]
    }
   ],
   "source": [
    "from pyspark.sql import SparkSession\n",
    "\n",
    "spark = SparkSession.builder.appName(\"tpphu\").getOrCreate()"
   ]
  },
  {
   "cell_type": "code",
   "execution_count": 3,
   "id": "c814dbca-d593-4afb-bc34-1dd1f5ec8ccb",
   "metadata": {},
   "outputs": [
    {
     "name": "stdout",
     "output_type": "stream",
     "text": [
      "+----+----+-------+\n",
      "|col1|col2|new_col|\n",
      "+----+----+-------+\n",
      "|   1|   2|     10|\n",
      "|   3|   4|     10|\n",
      "+----+----+-------+\n",
      "\n"
     ]
    }
   ],
   "source": [
    "import pyspark.sql.functions as F\n",
    "\n",
    "# Create a DataFrame with a single column\n",
    "df = spark.createDataFrame([(1, 2), (3, 4)], [\"col1\", \"col2\"])\n",
    "\n",
    "# Add a new column with a constant value of 10 to the DataFrame\n",
    "df = df.withColumn(\"new_col\", F.lit(10))\n",
    "\n",
    "df.show()"
   ]
  },
  {
   "cell_type": "markdown",
   "id": "d1121319-5130-49f4-a206-3033c90109bf",
   "metadata": {},
   "source": [
    "# Review productions file"
   ]
  },
  {
   "cell_type": "code",
   "execution_count": 4,
   "id": "e3d13b4e-142b-4ea1-a2d3-917b98bd84c7",
   "metadata": {},
   "outputs": [
    {
     "name": "stdout",
     "output_type": "stream",
     "text": [
      "root\n",
      " |-- productid: integer (nullable = true)\n",
      " |-- productname: string (nullable = true)\n",
      " |-- quantityperunit: string (nullable = true)\n",
      " |-- unitprice: double (nullable = true)\n",
      " |-- unitsinstock: integer (nullable = true)\n",
      "\n"
     ]
    }
   ],
   "source": [
    "df_productions = spark.read.csv(\"Productions.csv\", header=True,inferSchema=True)\n",
    "df_productions.printSchema()"
   ]
  },
  {
   "cell_type": "code",
   "execution_count": 5,
   "id": "450fb09c-1fb0-4d24-9cc0-f0b19861a578",
   "metadata": {},
   "outputs": [
    {
     "name": "stdout",
     "output_type": "stream",
     "text": [
      "+---------+--------------------+--------------------+---------+------------+\n",
      "|productid|         productname|     quantityperunit|unitprice|unitsinstock|\n",
      "+---------+--------------------+--------------------+---------+------------+\n",
      "|        1|                Chai|  10 boxes x 30 bags|     18.0|          39|\n",
      "|        2|               Chang|  24 - 12 oz bottles|     19.0|          17|\n",
      "|        3|       Aniseed Syrup| 12 - 550 ml bottles|     10.0|          13|\n",
      "|        4|Chef Anton's Caju...|      48 - 6 oz jars|     22.0|          53|\n",
      "|        5|Chef Anton's Gumb...|            36 boxes|    21.35|           0|\n",
      "|        6|Grandma's Boysenb...|      12 - 8 oz jars|     25.0|         120|\n",
      "|        7|Uncle Bob's Organ...|     12 - 1 lb pkgs.|     30.0|          15|\n",
      "|        8|Northwoods Cranbe...|     12 - 12 oz jars|     40.0|           6|\n",
      "|        9|     Mishi Kobe Niku|    18 - 500 g pkgs.|     97.0|          29|\n",
      "|       10|               Ikura|    12 - 200 ml jars|     31.0|          31|\n",
      "|       11|      Queso Cabrales|           1 kg pkg.|     21.0|          22|\n",
      "|       12|Queso Manchego La...|    10 - 500 g pkgs.|     38.0|          86|\n",
      "|       13|               Konbu|            2 kg box|      6.0|          24|\n",
      "|       14|                Tofu|    40 - 100 g pkgs.|    23.25|          35|\n",
      "|       15|        Genen Shouyu| 24 - 250 ml bottles|     13.0|          39|\n",
      "|       16|             Pavlova|    32 - 500 g boxes|    17.45|          29|\n",
      "|       17|        Alice Mutton|      20 - 1 kg tins|     39.0|           0|\n",
      "|       18|    Carnarvon Tigers|          16 kg pkg.|     62.5|          42|\n",
      "|       19|Teatime Chocolate...|10 boxes x 12 pieces|      9.2|          25|\n",
      "|       20|Sir Rodney's Marm...|       30 gift boxes|     81.0|          40|\n",
      "+---------+--------------------+--------------------+---------+------------+\n",
      "only showing top 20 rows\n",
      "\n"
     ]
    }
   ],
   "source": [
    "df_productions.show()"
   ]
  },
  {
   "cell_type": "markdown",
   "id": "224ea661-40e6-4157-84ec-437d91df96b6",
   "metadata": {},
   "source": [
    "# Review orders file"
   ]
  },
  {
   "cell_type": "code",
   "execution_count": 15,
   "id": "8a7e9a5f-9657-43cd-a561-0469b8da0985",
   "metadata": {},
   "outputs": [
    {
     "name": "stdout",
     "output_type": "stream",
     "text": [
      "root\n",
      " |-- orderid: integer (nullable = true)\n",
      " |-- customerid: string (nullable = true)\n",
      " |-- orderdate: string (nullable = true)\n",
      "\n"
     ]
    }
   ],
   "source": [
    "df_orders = spark.read.csv(\"Orders.csv\", header=True, inferSchema=True)\n",
    "df_orders.printSchema()"
   ]
  },
  {
   "cell_type": "code",
   "execution_count": 7,
   "id": "2ad53271-532d-4a4f-af62-c5b4b0d80b53",
   "metadata": {},
   "outputs": [
    {
     "name": "stdout",
     "output_type": "stream",
     "text": [
      "+-------+----------+---------+\n",
      "|orderid|customerid|orderdate|\n",
      "+-------+----------+---------+\n",
      "|  10248|     VINET| 7/4/1996|\n",
      "|  10249|     TOMSP| 7/5/1996|\n",
      "|  10250|     HANAR| 7/8/1996|\n",
      "|  10251|     VICTE| 7/8/1996|\n",
      "|  10252|     SUPRD| 7/9/1996|\n",
      "|  10253|     HANAR|7/10/1996|\n",
      "|  10254|     CHOPS|7/11/1996|\n",
      "|  10255|     RICSU|7/12/1996|\n",
      "|  10256|     WELLI|7/15/1996|\n",
      "|  10257|     HILAA|7/16/1996|\n",
      "|  10258|     ERNSH|7/17/1996|\n",
      "|  10259|     CENTC|7/18/1996|\n",
      "|  10260|     OTTIK|7/19/1996|\n",
      "|  10261|     QUEDE|7/19/1996|\n",
      "|  10262|     RATTC|7/22/1996|\n",
      "|  10263|     ERNSH|7/23/1996|\n",
      "|  10264|     FOLKO|7/24/1996|\n",
      "|  10265|     BLONP|7/25/1996|\n",
      "|  10266|     WARTH|7/26/1996|\n",
      "|  10267|     FRANK|7/29/1996|\n",
      "+-------+----------+---------+\n",
      "only showing top 20 rows\n",
      "\n"
     ]
    }
   ],
   "source": [
    "df_orders.show()"
   ]
  },
  {
   "cell_type": "code",
   "execution_count": 16,
   "id": "77397403-f575-44b2-acb5-cfc4946c17d9",
   "metadata": {},
   "outputs": [
    {
     "name": "stdout",
     "output_type": "stream",
     "text": [
      "root\n",
      " |-- orderid: integer (nullable = true)\n",
      " |-- customerid: string (nullable = true)\n",
      " |-- orderdate: date (nullable = true)\n",
      "\n"
     ]
    }
   ],
   "source": [
    "#Chuyển cột orderdate thành kiểu date\n",
    "from pyspark.sql.functions import to_date\n",
    "\n",
    "df_orders = df_orders.withColumn('orderdate', to_date(df_orders['orderdate'], 'M/d/yyyy'))\n",
    "df_orders.printSchema()"
   ]
  },
  {
   "cell_type": "code",
   "execution_count": 17,
   "id": "f5c682ae-fd0c-4fef-8f8f-c9c0f7da9343",
   "metadata": {},
   "outputs": [
    {
     "name": "stdout",
     "output_type": "stream",
     "text": [
      "root\n",
      " |-- orderid: integer (nullable = true)\n",
      " |-- productid: integer (nullable = true)\n",
      " |-- unitprice: double (nullable = true)\n",
      " |-- quantity: integer (nullable = true)\n",
      " |-- discount: double (nullable = true)\n",
      "\n"
     ]
    }
   ],
   "source": [
    "df_orderdetails = spark.read.csv(\"Order-details.csv\", header=True, inferSchema=True)\n",
    "df_orderdetails.printSchema()"
   ]
  },
  {
   "cell_type": "code",
   "execution_count": 18,
   "id": "3a594a93-9127-4e20-8c4f-ca0f4d35c640",
   "metadata": {},
   "outputs": [
    {
     "name": "stdout",
     "output_type": "stream",
     "text": [
      "+-------+----------+----------+\n",
      "|orderid|customerid| orderdate|\n",
      "+-------+----------+----------+\n",
      "|  10248|     VINET|1996-07-04|\n",
      "|  10249|     TOMSP|1996-07-05|\n",
      "|  10250|     HANAR|1996-07-08|\n",
      "|  10251|     VICTE|1996-07-08|\n",
      "|  10252|     SUPRD|1996-07-09|\n",
      "|  10253|     HANAR|1996-07-10|\n",
      "|  10254|     CHOPS|1996-07-11|\n",
      "|  10255|     RICSU|1996-07-12|\n",
      "|  10256|     WELLI|1996-07-15|\n",
      "|  10257|     HILAA|1996-07-16|\n",
      "|  10258|     ERNSH|1996-07-17|\n",
      "|  10259|     CENTC|1996-07-18|\n",
      "|  10260|     OTTIK|1996-07-19|\n",
      "|  10261|     QUEDE|1996-07-19|\n",
      "|  10262|     RATTC|1996-07-22|\n",
      "|  10263|     ERNSH|1996-07-23|\n",
      "|  10264|     FOLKO|1996-07-24|\n",
      "|  10265|     BLONP|1996-07-25|\n",
      "|  10266|     WARTH|1996-07-26|\n",
      "|  10267|     FRANK|1996-07-29|\n",
      "+-------+----------+----------+\n",
      "only showing top 20 rows\n",
      "\n"
     ]
    }
   ],
   "source": [
    "df_orders.show()"
   ]
  },
  {
   "cell_type": "code",
   "execution_count": 19,
   "id": "db197b97-b37a-460f-9fbb-8e6771214d3e",
   "metadata": {},
   "outputs": [
    {
     "name": "stdout",
     "output_type": "stream",
     "text": [
      "+-------+---------+---------+--------+--------+\n",
      "|orderid|productid|unitprice|quantity|discount|\n",
      "+-------+---------+---------+--------+--------+\n",
      "|  10248|       11|     14.0|      12|     0.0|\n",
      "|  10248|       42|      9.8|      10|     0.0|\n",
      "|  10248|       72|     34.8|       5|     0.0|\n",
      "|  10249|       14|     18.6|       9|     0.0|\n",
      "|  10249|       51|     42.4|      40|     0.0|\n",
      "|  10250|       41|      7.7|      10|     0.0|\n",
      "|  10250|       51|     42.4|      35|    0.15|\n",
      "|  10250|       65|     16.8|      15|    0.15|\n",
      "|  10251|       22|     16.8|       6|    0.05|\n",
      "|  10251|       57|     15.6|      15|    0.05|\n",
      "|  10251|       65|     16.8|      20|     0.0|\n",
      "|  10252|       20|     64.8|      40|    0.05|\n",
      "|  10252|       33|      2.0|      25|    0.05|\n",
      "|  10252|       60|     27.2|      40|     0.0|\n",
      "|  10253|       31|     10.0|      20|     0.0|\n",
      "|  10253|       39|     14.4|      42|     0.0|\n",
      "|  10253|       49|     16.0|      40|     0.0|\n",
      "|  10254|       24|      3.6|      15|    0.15|\n",
      "|  10254|       55|     19.2|      21|    0.15|\n",
      "|  10254|       74|      8.0|      21|     0.0|\n",
      "+-------+---------+---------+--------+--------+\n",
      "only showing top 20 rows\n",
      "\n"
     ]
    }
   ],
   "source": [
    "df_orderdetails.show()"
   ]
  },
  {
   "cell_type": "code",
   "execution_count": 20,
   "id": "e2dbd582-c63d-4768-932f-dec4af901932",
   "metadata": {},
   "outputs": [
    {
     "name": "stdout",
     "output_type": "stream",
     "text": [
      "+-------+----------+----------+\n",
      "|orderid|customerid| orderdate|\n",
      "+-------+----------+----------+\n",
      "|  10248|     VINET|1996-07-04|\n",
      "|  10249|     TOMSP|1996-07-05|\n",
      "|  10250|     HANAR|1996-07-08|\n",
      "|  10251|     VICTE|1996-07-08|\n",
      "|  10252|     SUPRD|1996-07-09|\n",
      "|  10253|     HANAR|1996-07-10|\n",
      "|  10254|     CHOPS|1996-07-11|\n",
      "|  10255|     RICSU|1996-07-12|\n",
      "|  10256|     WELLI|1996-07-15|\n",
      "|  10257|     HILAA|1996-07-16|\n",
      "|  10258|     ERNSH|1996-07-17|\n",
      "|  10259|     CENTC|1996-07-18|\n",
      "|  10260|     OTTIK|1996-07-19|\n",
      "|  10261|     QUEDE|1996-07-19|\n",
      "+-------+----------+----------+\n",
      "\n",
      "+-------+----------+----------+\n",
      "|orderid|customerid| orderdate|\n",
      "+-------+----------+----------+\n",
      "|  10248|     VINET|1996-07-04|\n",
      "|  10249|     TOMSP|1996-07-05|\n",
      "|  10250|     HANAR|1996-07-08|\n",
      "|  10251|     VICTE|1996-07-08|\n",
      "|  10252|     SUPRD|1996-07-09|\n",
      "|  10253|     HANAR|1996-07-10|\n",
      "|  10254|     CHOPS|1996-07-11|\n",
      "|  10255|     RICSU|1996-07-12|\n",
      "|  10256|     WELLI|1996-07-15|\n",
      "|  10257|     HILAA|1996-07-16|\n",
      "|  10258|     ERNSH|1996-07-17|\n",
      "|  10259|     CENTC|1996-07-18|\n",
      "|  10260|     OTTIK|1996-07-19|\n",
      "|  10261|     QUEDE|1996-07-19|\n",
      "|  10262|     RATTC|1996-07-22|\n",
      "|  10263|     ERNSH|1996-07-23|\n",
      "|  10264|     FOLKO|1996-07-24|\n",
      "|  10265|     BLONP|1996-07-25|\n",
      "|  10266|     WARTH|1996-07-26|\n",
      "|  10267|     FRANK|1996-07-29|\n",
      "+-------+----------+----------+\n",
      "only showing top 20 rows\n",
      "\n",
      "+-------+-----+\n",
      "|orderid|count|\n",
      "+-------+-----+\n",
      "|  10362|    3|\n",
      "|  10623|    5|\n",
      "|  10817|    4|\n",
      "|  11033|    2|\n",
      "|  10462|    2|\n",
      "|  10703|    3|\n",
      "|  10914|    1|\n",
      "|  10708|    2|\n",
      "|  10798|    2|\n",
      "|  10862|    2|\n",
      "|  11025|    2|\n",
      "|  10468|    2|\n",
      "|  10745|    4|\n",
      "|  10768|    4|\n",
      "|  10395|    3|\n",
      "|  10527|    2|\n",
      "|  10567|    3|\n",
      "|  10632|    2|\n",
      "|  10788|    2|\n",
      "|  10815|    1|\n",
      "+-------+-----+\n",
      "only showing top 20 rows\n",
      "\n"
     ]
    }
   ],
   "source": [
    "#Liệt kê những đơn hàng trước ngày 1996-07-20\n",
    "df_orders.filter(df_orders['orderdate']<\"1996-07-20\").show()\n",
    "#Liệt kê những đơn hàng năm 1996\n",
    "from pyspark.sql.functions import year\n",
    "df_orders.filter(year(df_orders['orderdate'])==1996).show()\n",
    "#Đếm số mặt hàng trong từng đơn hàng\n",
    "df_orderdetails.groupBy('orderid').count().show()"
   ]
  },
  {
   "cell_type": "code",
   "execution_count": 21,
   "id": "a0c0a30b-e7d8-42cf-b0b6-77e539bcfc7a",
   "metadata": {},
   "outputs": [
    {
     "name": "stdout",
     "output_type": "stream",
     "text": [
      "+-------+------------------+\n",
      "|orderid|       sum(amount)|\n",
      "+-------+------------------+\n",
      "|  10362|            1549.6|\n",
      "|  10623|           1336.95|\n",
      "|  10817|         10952.845|\n",
      "|  11033|            3232.8|\n",
      "|  10462|156.00000000000003|\n",
      "|  10703|            2545.0|\n",
      "|  10914|             537.5|\n",
      "|  10708|             180.4|\n",
      "|  10798|             446.6|\n",
      "|  10862|             581.0|\n",
      "|  11025|             270.0|\n",
      "|  10468|             717.6|\n",
      "|  10745|            4529.8|\n",
      "|  10768|            1477.0|\n",
      "|  10395|           2122.92|\n",
      "|  10527|            1503.0|\n",
      "|  10567|            2519.0|\n",
      "|  10632|             589.0|\n",
      "|  10788|             731.5|\n",
      "|  10815|              40.0|\n",
      "+-------+------------------+\n",
      "only showing top 20 rows\n",
      "\n"
     ]
    }
   ],
   "source": [
    "#Tính tổng tiền của từng đơn hàng\n",
    "from pyspark.sql.functions import col\n",
    "#Thêm cột amount tính thành tiền từng mặt hàng trong đơn hàng\n",
    "df_orderdetail_withamount = df_orderdetails.withColumn(\"amount\", col('unitprice')*col('quantity')*(1-col('discount')))\n",
    "#Phân nhóm và tính tổng tiền của từng đơn hàng\n",
    "df_orderdetail_withamount.groupBy('orderid').sum('amount').show()"
   ]
  },
  {
   "cell_type": "code",
   "execution_count": 24,
   "id": "c068005f-8cde-4a69-a10e-4786964486d8",
   "metadata": {},
   "outputs": [],
   "source": [
    "from pyspark.sql.functions import month\n",
    "#Tính tổng tiền bán hàng trong từng tháng của năm 1999\n",
    "#Nối đơn hàng với chi tiết đơn hàng và lọc những đơn hàng năm 1996\n",
    "df_order_full = df_orderdetail_withamount.join(df_orders.filter(year(col('orderdate'))==1996), 'orderid','inner')\n",
    "#Thêm cột month\n",
    "df_order_full = df_order_full.withColumn('month',month(col('orderdate')))\n",
    "#Phân nhóm theo tháng và tính tổng thành tiền\n",
    "sum_amount_by_month = df_order_full.groupby('month').sum('amount').orderBy('month').collect()"
   ]
  },
  {
   "cell_type": "code",
   "execution_count": 27,
   "id": "d8afd2a5-83b1-4214-a7f8-7d69fdf98f2f",
   "metadata": {},
   "outputs": [
    {
     "name": "stdout",
     "output_type": "stream",
     "text": [
      "+-----+------------------+\n",
      "|month|       sum(amount)|\n",
      "+-----+------------------+\n",
      "|    7|27861.894999999997|\n",
      "|    8|25485.275000000005|\n",
      "|    9|26381.399999999998|\n",
      "|   10| 37515.72499999999|\n",
      "|   11|         45600.045|\n",
      "|   12| 45239.63000000001|\n",
      "+-----+------------------+\n",
      "\n"
     ]
    }
   ],
   "source": [
    "df_order_full.groupby('month').sum('amount').orderBy('month').show()"
   ]
  },
  {
   "cell_type": "code",
   "execution_count": 25,
   "id": "1a7cd87f-c7b7-47bc-82b3-8f60c9f373f3",
   "metadata": {},
   "outputs": [
    {
     "name": "stdout",
     "output_type": "stream",
     "text": [
      "[Row(month=7, sum(amount)=27861.894999999997), Row(month=8, sum(amount)=25485.275000000005), Row(month=9, sum(amount)=26381.399999999998), Row(month=10, sum(amount)=37515.72499999999), Row(month=11, sum(amount)=45600.045), Row(month=12, sum(amount)=45239.63000000001)]\n"
     ]
    }
   ],
   "source": [
    "print(sum_amount_by_month)"
   ]
  },
  {
   "cell_type": "code",
   "execution_count": 28,
   "id": "c69f730a-fa6e-4d10-9a89-311705c01bed",
   "metadata": {},
   "outputs": [],
   "source": [
    "#Lấy danh sách tháng và tổng thành tiền từng tháng\n",
    "m = [tuple(row)[0] for row in sum_amount_by_month]\n",
    "a = [tuple(row)[1] for row in sum_amount_by_month]"
   ]
  },
  {
   "cell_type": "code",
   "execution_count": 29,
   "id": "d279e55a-2ab9-432b-af11-fb46fa7a0fae",
   "metadata": {},
   "outputs": [
    {
     "name": "stdout",
     "output_type": "stream",
     "text": [
      "[7, 8, 9, 10, 11, 12]\n",
      "[27861.894999999997, 25485.275000000005, 26381.399999999998, 37515.72499999999, 45600.045, 45239.63000000001]\n"
     ]
    }
   ],
   "source": [
    "print(m)\n",
    "print(a)"
   ]
  },
  {
   "cell_type": "code",
   "execution_count": 30,
   "id": "ad1a0074-b0fa-4a16-bd0c-0d28fa816f51",
   "metadata": {},
   "outputs": [
    {
     "data": {
      "text/plain": [
       "<BarContainer object of 6 artists>"
      ]
     },
     "execution_count": 30,
     "metadata": {},
     "output_type": "execute_result"
    },
    {
     "data": {
      "image/png": "[encoded data removed]",
      "text/plain": [
       "<Figure size 640x480 with 1 Axes>"
      ]
     },
     "metadata": {},
     "output_type": "display_data"
    }
   ],
   "source": [
    "import matplotlib.pyplot as plt\n",
    "fig=plt.figure()\n",
    "ax=fig.add_axes([0,0,1,1])\n",
    "ax.bar(m, a)"
   ]
  },
  {
   "cell_type": "markdown",
   "id": "c1d6195d-68a1-4df4-99fb-cc339ce39ceb",
   "metadata": {},
   "source": [
    "4. Nội dung thực hành\n",
    "4.1 Cho biết những khách hàng ở USA.\n",
    "4.2 Cho biết tên, đơn giá, số lượng tồn kho của những sản phẩm tồn kho hơn 100 sản phẩm\n",
    "4.3 Cho biết những đơn hàng trong quý 2 năm 1997\n",
    "4.4 Cho biết tên khách hàng (công ty) của đơn hàng có mã 10252\n",
    "4.5 Đếm số mặt hàng trong từng đơn hàng\n",
    "4.6 Tính số đơn hàng và tổng tiền của khách hàng có mã 10252\n",
    "4.7 Cho biết số lượng đơn hàng và tổng tiền bán từng ngày trong tháng 1 năm 1997.\n",
    "4.8 Tính số lượng, tổng tiền, đơn giá bán bình quân của từng mặt hàng\n",
    "4.9 Cho biết tên những mặt hàng chưa bán được\n",
    "4.10 Cho biết tên những mặt hàng bán nhiều nhất theo số lượng\n",
    "4.11 Vẽ biểu đồ cột biểu diễn thành tiền bán của 10 mặt hàng bán nhiều nhất trong năm 1997\n",
    "4.12 Vẽ biểu đồ cột so sánh số tiền bán được theo tháng của từng năm\n",
    "4.13 Vẽ biểu đồ đường biểu diễn số lượng bán được từng tháng/năm của mặt hàng có nhiều đơn\n",
    "hàng nhất\n",
    "4.14 Cho biết những cặp khách hàng mua giống nhau từ 5 mặt hàng trở lên, đó là những mặt\n",
    "hàng nào?\n",
    "4.15 Cho biết trong những cặp khách hàng (c1, c2) mua giống nhau hơn 5 mặt hàng thì những\n",
    "mặt hàng nào khách hàng c1 mua mà khách hàng c2 chưa mua."
   ]
  },
  {
   "cell_type": "code",
   "execution_count": 31,
   "id": "b884ca1f-f1c4-4011-85a0-b7dee1d47214",
   "metadata": {},
   "outputs": [
    {
     "name": "stdout",
     "output_type": "stream",
     "text": [
      "root\n",
      " |-- customerid: string (nullable = true)\n",
      " |-- companyname: string (nullable = true)\n",
      " |-- contactname: string (nullable = true)\n",
      " |-- contacttitle: string (nullable = true)\n",
      " |-- address: string (nullable = true)\n",
      " |-- city: string (nullable = true)\n",
      " |-- country: string (nullable = true)\n",
      " |-- phone: string (nullable = true)\n",
      "\n"
     ]
    }
   ],
   "source": [
    "# 4.1 Cho biết những khách hàng ở USA.\n",
    "df_customers = spark.read.csv(\"Customers.csv\", header=True, inferSchema=True)\n",
    "df_customers.printSchema()"
   ]
  },
  {
   "cell_type": "code",
   "execution_count": 34,
   "id": "694de1f0-3513-487d-b511-a490e1a81b03",
   "metadata": {},
   "outputs": [
    {
     "name": "stdout",
     "output_type": "stream",
     "text": [
      "+----------+--------------------+------------------+--------------------+--------------------+-------------+-------+--------------+\n",
      "|customerid|         companyname|       contactname|        contacttitle|             address|         city|country|         phone|\n",
      "+----------+--------------------+------------------+--------------------+--------------------+-------------+-------+--------------+\n",
      "|     GREAL|Great Lakes Food ...|     Howard Snyder|   Marketing Manager|    2732 Baker Blvd.|       Eugene|    USA|(503) 555-7555|\n",
      "|     HUNGC|Hungry Coyote Imp...|     Yoshi Latimer|Sales Representative|City Center Plaza...|        Elgin|    USA|(503) 555-6874|\n",
      "|     LAZYK|Lazy K Kountry Store|        John Steel|   Marketing Manager|12 Orchestra Terrace|  Walla Walla|    USA|(509) 555-7969|\n",
      "|     LETSS|   Let's Stop N Shop|      Jaime Yorres|               Owner| 87 Polk St. Suite 5|San Francisco|    USA|(415) 555-5938|\n",
      "|     LONEP|Lonesome Pine Res...|       Fran Wilson|       Sales Manager|  89 Chiaroscuro Rd.|     Portland|    USA|(503) 555-9573|\n",
      "|     OLDWO|Old World Delicat...|     Rene Phillips|Sales Representative|     2743 Bering St.|    Anchorage|    USA|(907) 555-7584|\n",
      "|     RATTC|Rattlesnake Canyo...|      Paula Wilson|Assistant Sales R...|     2817 Milton Dr.|  Albuquerque|    USA|(505) 555-5939|\n",
      "|     SAVEA|  Save-a-lot Markets|    Jose Pavarotti|Sales Representative|     187 Suffolk Ln.|        Boise|    USA|(208) 555-8097|\n",
      "|     SPLIR|Split Rail Beer &...|Art Braunschweiger|       Sales Manager|        P.O. Box 555|       Lander|    USA|(307) 555-4680|\n",
      "|     THEBI|      The Big Cheese|         Liz Nixon|   Marketing Manager|89 Jefferson Way ...|     Portland|    USA|(503) 555-3612|\n",
      "|     THECR|     The Cracker Box|          Liu Wong| Marketing Assistant| 55 Grizzly Peak Rd.|        Butte|    USA|(406) 555-5834|\n",
      "|     TRAIH|Trail's Head Gour...|    Helvetius Nagy|     Sales Associate|   722 DaVinci Blvd.|     Kirkland|    USA|(206) 555-8257|\n",
      "|     WHITC|White Clover Markets|    Karl Jablonski|               Owner|305 - 14th Ave. S...|      Seattle|    USA|(206) 555-4112|\n",
      "+----------+--------------------+------------------+--------------------+--------------------+-------------+-------+--------------+\n",
      "\n"
     ]
    }
   ],
   "source": [
    "df_customers.filter(df_customers['country']=='USA').show()"
   ]
  },
  {
   "cell_type": "code",
   "execution_count": 37,
   "id": "124cbeb6-4ff2-4dd1-ba6f-db871e28bdb1",
   "metadata": {},
   "outputs": [
    {
     "name": "stdout",
     "output_type": "stream",
     "text": [
      "+---------+--------------------+---------+------------+\n",
      "|productid|         productname|unitprice|unitsinstock|\n",
      "+---------+--------------------+---------+------------+\n",
      "|        6|Grandma's Boysenb...|     25.0|         120|\n",
      "|       22| Gustaf's Knäckebröd|     21.0|         104|\n",
      "|       33|             Geitost|      2.5|         112|\n",
      "|       34|       Sasquatch Ale|     14.0|         111|\n",
      "|       36|         Inlagd Sill|     19.0|         112|\n",
      "|       40|    Boston Crab Meat|     18.4|         123|\n",
      "|       55|        Pâté chinois|     24.0|         115|\n",
      "|       61|      Sirop d'érable|     28.5|         113|\n",
      "|       73|          Röd Kaviar|     15.0|         101|\n",
      "|       75|Rhönbräu Klosterbier|     7.75|         125|\n",
      "+---------+--------------------+---------+------------+\n",
      "\n"
     ]
    }
   ],
   "source": [
    "# 4.2 Cho biết tên, đơn giá, số lượng tồn kho của những sản phẩm tồn kho hơn 100 sản phẩm\n",
    "\n",
    "df_product_in_stock = df_productions.filter(df_productions['unitsinstock'] > 100) \\\n",
    "    .select('productid','productname','unitprice','unitsinstock')\n",
    "df_product_in_stock.show()"
   ]
  },
  {
   "cell_type": "code",
   "execution_count": 48,
   "id": "6f5403dd-b7c1-4530-8005-38c50fb1ace6",
   "metadata": {},
   "outputs": [
    {
     "name": "stdout",
     "output_type": "stream",
     "text": [
      "+-------+----------+----------+\n",
      "|orderid|customerid| orderdate|\n",
      "+-------+----------+----------+\n",
      "|  10492|     BOTTM|1997-04-01|\n",
      "|  10493|     LAMAI|1997-04-02|\n",
      "|  10494|     COMMI|1997-04-02|\n",
      "|  10495|     LAUGB|1997-04-03|\n",
      "|  10496|     TRADH|1997-04-04|\n",
      "|  10497|     LEHMS|1997-04-04|\n",
      "|  10498|     HILAA|1997-04-07|\n",
      "|  10499|     LILAS|1997-04-08|\n",
      "|  10500|     LAMAI|1997-04-09|\n",
      "|  10501|     BLAUS|1997-04-09|\n",
      "|  10502|     PERIC|1997-04-10|\n",
      "|  10503|     HUNGO|1997-04-11|\n",
      "|  10504|     WHITC|1997-04-11|\n",
      "|  10505|     MEREP|1997-04-14|\n",
      "|  10506|     KOENE|1997-04-15|\n",
      "|  10507|     ANTON|1997-04-15|\n",
      "|  10508|     OTTIK|1997-04-16|\n",
      "|  10509|     BLAUS|1997-04-17|\n",
      "|  10510|     SAVEA|1997-04-18|\n",
      "|  10511|     BONAP|1997-04-18|\n",
      "+-------+----------+----------+\n",
      "only showing top 20 rows\n",
      "\n"
     ]
    }
   ],
   "source": [
    "# 4.3 Cho biết những đơn hàng trong quý 2 năm 1997\n",
    "# df_orders.show()\n",
    "from pyspark.sql.functions import month, year\n",
    "\n",
    "# df_orders.filter(year(df_orders['orderdate'])==1997) \\\n",
    "#     .filter((month(df_orders['orderdate'])== 4\\\n",
    "#     | month(df_orders['orderdate'])==5 \\\n",
    "#     | month(df_orders['orderdate'])==6)) \\\n",
    "#     .show()\n",
    "\n",
    "df_orders.filter(year(df_orders['orderdate']) == 1997) \\\n",
    "    .filter((month(df_orders['orderdate']) == 4) |\n",
    "            (month(df_orders['orderdate']) == 5) |\n",
    "            (month(df_orders['orderdate']) == 6)) \\\n",
    "    .show()\n"
   ]
  },
  {
   "cell_type": "code",
   "execution_count": 51,
   "id": "1949bd72-076f-4d47-97a8-b0f3321e71a9",
   "metadata": {},
   "outputs": [
    {
     "name": "stdout",
     "output_type": "stream",
     "text": [
      "+-------+----------+----------+\n",
      "|orderid|customerid| orderdate|\n",
      "+-------+----------+----------+\n",
      "|  10248|     VINET|1996-07-04|\n",
      "|  10249|     TOMSP|1996-07-05|\n",
      "|  10250|     HANAR|1996-07-08|\n",
      "|  10251|     VICTE|1996-07-08|\n",
      "|  10252|     SUPRD|1996-07-09|\n",
      "|  10253|     HANAR|1996-07-10|\n",
      "|  10254|     CHOPS|1996-07-11|\n",
      "|  10255|     RICSU|1996-07-12|\n",
      "|  10256|     WELLI|1996-07-15|\n",
      "|  10257|     HILAA|1996-07-16|\n",
      "|  10258|     ERNSH|1996-07-17|\n",
      "|  10259|     CENTC|1996-07-18|\n",
      "|  10260|     OTTIK|1996-07-19|\n",
      "|  10261|     QUEDE|1996-07-19|\n",
      "|  10262|     RATTC|1996-07-22|\n",
      "|  10263|     ERNSH|1996-07-23|\n",
      "|  10264|     FOLKO|1996-07-24|\n",
      "|  10265|     BLONP|1996-07-25|\n",
      "|  10266|     WARTH|1996-07-26|\n",
      "|  10267|     FRANK|1996-07-29|\n",
      "+-------+----------+----------+\n",
      "only showing top 20 rows\n",
      "\n"
     ]
    }
   ],
   "source": [
    "df_orders.show()"
   ]
  },
  {
   "cell_type": "code",
   "execution_count": 54,
   "id": "7a10d169-4356-4604-bceb-a6888408b550",
   "metadata": {},
   "outputs": [
    {
     "name": "stdout",
     "output_type": "stream",
     "text": [
      "+----------------+\n",
      "|     companyname|\n",
      "+----------------+\n",
      "|Suprêmes délices|\n",
      "+----------------+\n",
      "\n"
     ]
    }
   ],
   "source": [
    "# 4.4 Cho biết tên khách hàng (công ty) của đơn hàng có mã 10252\n",
    "df_customers.join(df_orders.filter(df_orders['orderid'] == 10252), 'customerid','inner').select('companyname').show()"
   ]
  }
 ],
 "metadata": {
  "kernelspec": {
   "display_name": "Python 3 (ipykernel)",
   "language": "python",
   "name": "python3"
  },
  "language_info": {
   "codemirror_mode": {
    "name": "ipython",
    "version": 3
   },
   "file_extension": ".py",
   "mimetype": "text/x-python",
   "name": "python",
   "nbconvert_exporter": "python",
   "pygments_lexer": "ipython3",
   "version": "3.11.9"
  }
 },
 "nbformat": 4,
 "nbformat_minor": 5
}
